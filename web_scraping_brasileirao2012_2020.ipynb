{
  "nbformat": 4,
  "nbformat_minor": 0,
  "metadata": {
    "colab": {
      "name": "web_scraping_brasileirao2012_2020.ipynb",
      "provenance": [],
      "collapsed_sections": [],
      "toc_visible": true,
      "authorship_tag": "ABX9TyN8P9VxgJyhHbIoMa9pwqRL",
      "include_colab_link": true
    },
    "kernelspec": {
      "name": "python3",
      "display_name": "Python 3"
    }
  },
  "cells": [
    {
      "cell_type": "markdown",
      "metadata": {
        "id": "view-in-github",
        "colab_type": "text"
      },
      "source": [
        "<a href=\"https://colab.research.google.com/github/BrenoMilagres/modelo_preditivo_brasileirao/blob/main/web_scraping_brasileirao2012_2020.ipynb\" target=\"_parent\"><img src=\"https://colab.research.google.com/assets/colab-badge.svg\" alt=\"Open In Colab\"/></a>"
      ]
    },
    {
      "cell_type": "markdown",
      "metadata": {
        "id": "s9BS4HEivvwY"
      },
      "source": [
        "#### Carregando módulo que possibilita utilizar um comando \"mágico\" para programar em R no google colab"
      ]
    },
    {
      "cell_type": "code",
      "metadata": {
        "id": "UBOqcjeIuyjT"
      },
      "source": [
        "%reload_ext rpy2.ipython"
      ],
      "execution_count": null,
      "outputs": []
    },
    {
      "cell_type": "markdown",
      "metadata": {
        "id": "pBYExDFdwT2x"
      },
      "source": [
        "#### Importando bibliotecas "
      ]
    },
    {
      "cell_type": "code",
      "metadata": {
        "id": "x08_R2K1wRLI",
        "colab": {
          "base_uri": "https://localhost:8080/"
        },
        "outputId": "117f2f01-1899-4d22-d8ad-ee3a09c3827e"
      },
      "source": [
        "%%R\n",
        "library(stringr)\n",
        "library(rvest)\n",
        "library(glue)"
      ],
      "execution_count": null,
      "outputs": [
        {
          "output_type": "stream",
          "text": [
            "R[write to console]: Loading required package: xml2\n",
            "\n"
          ],
          "name": "stderr"
        }
      ]
    },
    {
      "cell_type": "markdown",
      "metadata": {
        "id": "oMlEc2do3KCX"
      },
      "source": [
        "#### Acessando url do site da cbf \n",
        "#### Através da inspeção do Html do site, é possível notar que a classe aside-rodadas engloba todos os dados da tabela de jogos, então é necessário fazer a leitura desses dados utilizando os pacotes rvest e xml2."
      ]
    },
    {
      "cell_type": "markdown",
      "metadata": {
        "id": "UUdfONIF4Bef"
      },
      "source": [
        "#### Extraindo informações que são pertinentes da tabela e estruturando-as para análises posteriores. Os campos que estamos buscando são:\n",
        "\n",
        ">Time Casa: As classes que englobam as siglas dos times da casa são pull-left e time-sigla;\n",
        "\n",
        ">Time Fora: para o time de fora, as classes são pull-right e time-sigla;\n",
        "\n",
        ">Placar: é agrupado pela classe partida-horario."
      ]
    },
    {
      "cell_type": "code",
      "metadata": {
        "id": "enc-b84w0jg8"
      },
      "source": [
        "%%R\n",
        "for(i in 2012:2020) {\n",
        "  \n",
        "url <- glue(\"https://www.cbf.com.br/futebol-brasileiro/competicoes/campeonato-brasileiro-serie-a/{i}\")\n",
        "\n",
        "\n",
        "resultados <- url %>% \n",
        "  read_html() %>% \n",
        "  html_nodes(\".aside-rodadas\")\n",
        "\n",
        "casa <- resultados %>% \n",
        "  html_nodes(\".pull-left .time-sigla\") %>% \n",
        "  html_text()\n",
        "\n",
        "\n",
        "fora <- resultados %>% \n",
        "  html_nodes(\".pull-right .time-sigla\") %>% \n",
        "  html_text()\n",
        "\n",
        "\n",
        "placar <-  resultados %>% \n",
        "            html_nodes(\".partida-horario\") %>%\n",
        "             html_text() %>%\n",
        "               str_extract(\"[0-9]{1}\\ x\\ [0-9]{1}\")\n",
        "    \n",
        "rodada <- 0:(length(placar)-1) %/% 10 + 1\n",
        "\n",
        "df <- if( i == 2012)\n",
        "          { \n",
        "       \n",
        "              data.frame(cbind(rodada = rodada,\n",
        "                  casa = casa,\n",
        "                  placar = placar,\n",
        "                  fora = fora,\n",
        "                  ano = rep(i,length(rodada) ) ) ) }\n",
        "          else{\n",
        "\n",
        "              data.frame(rbind(df, cbind(rodada = rodada,\n",
        "                  casa = casa,\n",
        "                  placar = placar,\n",
        "                  fora = fora,\n",
        "                  ano = rep(i,length(rodada) ) ) ))\n",
        "}\n",
        " \n",
        "\n",
        "}\n",
        "\n"
      ],
      "execution_count": null,
      "outputs": []
    },
    {
      "cell_type": "markdown",
      "metadata": {
        "id": "a2zpojpL5Sdg"
      },
      "source": [
        "#### Escrevendo um arquivo csv atrvés do dataframe gerado."
      ]
    },
    {
      "cell_type": "code",
      "metadata": {
        "id": "OLHh08FV1hxj"
      },
      "source": [
        "%%R\n",
        "write.csv(df, \"Brasileirao_2012_2020.csv\", col.names = TRUE, row.names = FALSE, sep = \",\")"
      ],
      "execution_count": null,
      "outputs": []
    },
    {
      "cell_type": "markdown",
      "metadata": {
        "id": "WY_DF91Gvc2F"
      },
      "source": [
        "#### Tratamentos no dataframe "
      ]
    },
    {
      "cell_type": "code",
      "metadata": {
        "id": "2zN-5pGSvb_i",
        "colab": {
          "base_uri": "https://localhost:8080/",
          "height": 197
        },
        "outputId": "ef79eb22-72c0-4469-c949-7b42aac0d346"
      },
      "source": [
        "import pandas  as pd\n",
        "df_2020 = pd.read_csv('Brasileirao_2012_2020.csv')\n",
        "df_2020.tail()"
      ],
      "execution_count": null,
      "outputs": [
        {
          "output_type": "execute_result",
          "data": {
            "text/html": [
              "<div>\n",
              "<style scoped>\n",
              "    .dataframe tbody tr th:only-of-type {\n",
              "        vertical-align: middle;\n",
              "    }\n",
              "\n",
              "    .dataframe tbody tr th {\n",
              "        vertical-align: top;\n",
              "    }\n",
              "\n",
              "    .dataframe thead th {\n",
              "        text-align: right;\n",
              "    }\n",
              "</style>\n",
              "<table border=\"1\" class=\"dataframe\">\n",
              "  <thead>\n",
              "    <tr style=\"text-align: right;\">\n",
              "      <th></th>\n",
              "      <th>rodada</th>\n",
              "      <th>casa</th>\n",
              "      <th>placar</th>\n",
              "      <th>fora</th>\n",
              "      <th>ano</th>\n",
              "    </tr>\n",
              "  </thead>\n",
              "  <tbody>\n",
              "    <tr>\n",
              "      <th>3415</th>\n",
              "      <td>38</td>\n",
              "      <td>INT</td>\n",
              "      <td>0 x 0</td>\n",
              "      <td>COR</td>\n",
              "      <td>2020</td>\n",
              "    </tr>\n",
              "    <tr>\n",
              "      <th>3416</th>\n",
              "      <td>38</td>\n",
              "      <td>BAH</td>\n",
              "      <td>2 x 0</td>\n",
              "      <td>SAN</td>\n",
              "      <td>2020</td>\n",
              "    </tr>\n",
              "    <tr>\n",
              "      <th>3417</th>\n",
              "      <td>38</td>\n",
              "      <td>ATH</td>\n",
              "      <td>2 x 0</td>\n",
              "      <td>SPO</td>\n",
              "      <td>2020</td>\n",
              "    </tr>\n",
              "    <tr>\n",
              "      <th>3418</th>\n",
              "      <td>38</td>\n",
              "      <td>CEA</td>\n",
              "      <td>2 x 1</td>\n",
              "      <td>BOT</td>\n",
              "      <td>2020</td>\n",
              "    </tr>\n",
              "    <tr>\n",
              "      <th>3419</th>\n",
              "      <td>38</td>\n",
              "      <td>ATL</td>\n",
              "      <td>3 x 1</td>\n",
              "      <td>COR</td>\n",
              "      <td>2020</td>\n",
              "    </tr>\n",
              "  </tbody>\n",
              "</table>\n",
              "</div>"
            ],
            "text/plain": [
              "      rodada casa placar fora   ano\n",
              "3415      38  INT  0 x 0  COR  2020\n",
              "3416      38  BAH  2 x 0  SAN  2020\n",
              "3417      38  ATH  2 x 0  SPO  2020\n",
              "3418      38  CEA  2 x 1  BOT  2020\n",
              "3419      38  ATL  3 x 1  COR  2020"
            ]
          },
          "metadata": {
            "tags": []
          },
          "execution_count": 7
        }
      ]
    },
    {
      "cell_type": "markdown",
      "metadata": {
        "id": "9K0ETcvi016h"
      },
      "source": [
        "Separando placar "
      ]
    },
    {
      "cell_type": "code",
      "metadata": {
        "colab": {
          "base_uri": "https://localhost:8080/",
          "height": 204
        },
        "id": "9QesPVYizee3",
        "outputId": "aa964732-6ac4-4d94-9fb0-12b5e42ec98e"
      },
      "source": [
        "gols = df_2020['placar'].str.split('x',n=1,expand=True)\n",
        "df_2020['MandanteGols'] = gols[0]\n",
        "df_2020['VisitanteGols'] = gols[1]\n",
        "df_2020.head()"
      ],
      "execution_count": null,
      "outputs": [
        {
          "output_type": "execute_result",
          "data": {
            "text/html": [
              "<div>\n",
              "<style scoped>\n",
              "    .dataframe tbody tr th:only-of-type {\n",
              "        vertical-align: middle;\n",
              "    }\n",
              "\n",
              "    .dataframe tbody tr th {\n",
              "        vertical-align: top;\n",
              "    }\n",
              "\n",
              "    .dataframe thead th {\n",
              "        text-align: right;\n",
              "    }\n",
              "</style>\n",
              "<table border=\"1\" class=\"dataframe\">\n",
              "  <thead>\n",
              "    <tr style=\"text-align: right;\">\n",
              "      <th></th>\n",
              "      <th>rodada</th>\n",
              "      <th>casa</th>\n",
              "      <th>placar</th>\n",
              "      <th>fora</th>\n",
              "      <th>ano</th>\n",
              "      <th>MandanteGols</th>\n",
              "      <th>VisitanteGols</th>\n",
              "    </tr>\n",
              "  </thead>\n",
              "  <tbody>\n",
              "    <tr>\n",
              "      <th>0</th>\n",
              "      <td>1</td>\n",
              "      <td>FOR</td>\n",
              "      <td>0 x 2</td>\n",
              "      <td>ATH</td>\n",
              "      <td>2020</td>\n",
              "      <td>0</td>\n",
              "      <td>2</td>\n",
              "    </tr>\n",
              "    <tr>\n",
              "      <th>1</th>\n",
              "      <td>1</td>\n",
              "      <td>COR</td>\n",
              "      <td>0 x 1</td>\n",
              "      <td>INT</td>\n",
              "      <td>2020</td>\n",
              "      <td>0</td>\n",
              "      <td>1</td>\n",
              "    </tr>\n",
              "    <tr>\n",
              "      <th>2</th>\n",
              "      <td>1</td>\n",
              "      <td>SPO</td>\n",
              "      <td>3 x 2</td>\n",
              "      <td>CEA</td>\n",
              "      <td>2020</td>\n",
              "      <td>3</td>\n",
              "      <td>2</td>\n",
              "    </tr>\n",
              "    <tr>\n",
              "      <th>3</th>\n",
              "      <td>1</td>\n",
              "      <td>FLA</td>\n",
              "      <td>0 x 1</td>\n",
              "      <td>ATL</td>\n",
              "      <td>2020</td>\n",
              "      <td>0</td>\n",
              "      <td>1</td>\n",
              "    </tr>\n",
              "    <tr>\n",
              "      <th>4</th>\n",
              "      <td>1</td>\n",
              "      <td>SAN</td>\n",
              "      <td>1 x 1</td>\n",
              "      <td>RED</td>\n",
              "      <td>2020</td>\n",
              "      <td>1</td>\n",
              "      <td>1</td>\n",
              "    </tr>\n",
              "  </tbody>\n",
              "</table>\n",
              "</div>"
            ],
            "text/plain": [
              "   rodada casa placar fora   ano MandanteGols VisitanteGols\n",
              "0       1  FOR  0 x 2  ATH  2020           0              2\n",
              "1       1  COR  0 x 1  INT  2020           0              1\n",
              "2       1  SPO  3 x 2  CEA  2020           3              2\n",
              "3       1  FLA  0 x 1  ATL  2020           0              1\n",
              "4       1  SAN  1 x 1  RED  2020           1              1"
            ]
          },
          "metadata": {
            "tags": []
          },
          "execution_count": 39
        }
      ]
    }
  ]
}