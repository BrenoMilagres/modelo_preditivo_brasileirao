{
  "nbformat": 4,
  "nbformat_minor": 0,
  "metadata": {
    "colab": {
      "name": "modeloPreditivoCampBrasileiroTemp.ipynb",
      "provenance": [],
      "collapsed_sections": [],
      "toc_visible": true,
      "authorship_tag": "ABX9TyNfzMwpmdWH0clSPsfLl6HV",
      "include_colab_link": true
    },
    "kernelspec": {
      "name": "python3",
      "display_name": "Python 3"
    }
  },
  "cells": [
    {
      "cell_type": "markdown",
      "metadata": {
        "id": "view-in-github",
        "colab_type": "text"
      },
      "source": [
        "<a href=\"https://colab.research.google.com/github/BrenoMilagres/modelo_preditivo_brasileirao/blob/main/modeloPreditivoCampBrasileiroTemp.ipynb\" target=\"_parent\"><img src=\"https://colab.research.google.com/assets/colab-badge.svg\" alt=\"Open In Colab\"/></a>"
      ]
    },
    {
      "cell_type": "code",
      "metadata": {
        "id": "Brdk_L_KfQY4"
      },
      "source": [
        "%matplotlib inline\n",
        "import pandas as pd\n",
        "import matplotlib.pyplot as plt\n",
        "import seaborn as sns\n",
        "import numpy as np"
      ],
      "execution_count": null,
      "outputs": []
    },
    {
      "cell_type": "code",
      "metadata": {
        "id": "PvLymi5yfimP",
        "colab": {
          "resources": {
            "http://localhost:8080/nbextensions/google.colab/files.js": {
              "data": "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",
              "ok": true,
              "headers": [
                [
                  "content-type",
                  "application/javascript"
                ]
              ],
              "status": 200,
              "status_text": ""
            }
          },
          "base_uri": "https://localhost:8080/",
          "height": 73
        },
        "outputId": "fe852153-8f02-48ed-f1a9-fc0a79e9156d"
      },
      "source": [
        "#importando os dados para o google colab\n",
        "from google.colab import files\n",
        "uploaded = files.upload()"
      ],
      "execution_count": null,
      "outputs": [
        {
          "output_type": "display_data",
          "data": {
            "text/html": [
              "\n",
              "     <input type=\"file\" id=\"files-8526fe2a-f62a-4a24-b884-eb7a5ff2c37a\" name=\"files[]\" multiple disabled\n",
              "        style=\"border:none\" />\n",
              "     <output id=\"result-8526fe2a-f62a-4a24-b884-eb7a5ff2c37a\">\n",
              "      Upload widget is only available when the cell has been executed in the\n",
              "      current browser session. Please rerun this cell to enable.\n",
              "      </output>\n",
              "      <script src=\"/nbextensions/google.colab/files.js\"></script> "
            ],
            "text/plain": [
              "<IPython.core.display.HTML object>"
            ]
          },
          "metadata": {
            "tags": []
          }
        },
        {
          "output_type": "stream",
          "text": [
            "Saving campeonato-brasileiro-full.csv to campeonato-brasileiro-full.csv\n"
          ],
          "name": "stdout"
        }
      ]
    },
    {
      "cell_type": "markdown",
      "metadata": {
        "id": "eRF7-5BlUpiA"
      },
      "source": [
        "# Carregando, explorando e tratando os Dados"
      ]
    },
    {
      "cell_type": "code",
      "metadata": {
        "id": "kTWOrm9cfvJd"
      },
      "source": [
        "times = pd.read_csv('campeonato-brasileiro-full.csv')"
      ],
      "execution_count": null,
      "outputs": []
    },
    {
      "cell_type": "code",
      "metadata": {
        "id": "5q_X6Oksf2B5",
        "colab": {
          "base_uri": "https://localhost:8080/",
          "height": 197
        },
        "outputId": "b49c38eb-73cc-44b2-bd96-5e4e21c7aebd"
      },
      "source": [
        "times.head()"
      ],
      "execution_count": null,
      "outputs": [
        {
          "output_type": "execute_result",
          "data": {
            "text/html": [
              "<div>\n",
              "<style scoped>\n",
              "    .dataframe tbody tr th:only-of-type {\n",
              "        vertical-align: middle;\n",
              "    }\n",
              "\n",
              "    .dataframe tbody tr th {\n",
              "        vertical-align: top;\n",
              "    }\n",
              "\n",
              "    .dataframe thead th {\n",
              "        text-align: right;\n",
              "    }\n",
              "</style>\n",
              "<table border=\"1\" class=\"dataframe\">\n",
              "  <thead>\n",
              "    <tr style=\"text-align: right;\">\n",
              "      <th></th>\n",
              "      <th>Horário</th>\n",
              "      <th>Dia</th>\n",
              "      <th>Data</th>\n",
              "      <th>Clube 1</th>\n",
              "      <th>Clube 2</th>\n",
              "      <th>Vencedor</th>\n",
              "      <th>Rodada</th>\n",
              "      <th>Arena</th>\n",
              "      <th>Clube 1 Gols</th>\n",
              "      <th>Clube 2 Gols</th>\n",
              "      <th>Clube 1 Estado</th>\n",
              "      <th>Clube 2 Estado</th>\n",
              "      <th>Estado Clube Vencedor</th>\n",
              "    </tr>\n",
              "  </thead>\n",
              "  <tbody>\n",
              "    <tr>\n",
              "      <th>0</th>\n",
              "      <td>16h00</td>\n",
              "      <td>Sábado</td>\n",
              "      <td>2000-07-29</td>\n",
              "      <td>Fluminense</td>\n",
              "      <td>Bahia</td>\n",
              "      <td>Fluminense</td>\n",
              "      <td>1ª Rodada</td>\n",
              "      <td>Maracanã</td>\n",
              "      <td>2</td>\n",
              "      <td>0</td>\n",
              "      <td>RJ</td>\n",
              "      <td>BA</td>\n",
              "      <td>RJ</td>\n",
              "    </tr>\n",
              "    <tr>\n",
              "      <th>1</th>\n",
              "      <td>16h00</td>\n",
              "      <td>Sábado</td>\n",
              "      <td>2000-07-29</td>\n",
              "      <td>Vasco</td>\n",
              "      <td>Sport</td>\n",
              "      <td>Sport</td>\n",
              "      <td>1ª Rodada</td>\n",
              "      <td>São Januário</td>\n",
              "      <td>0</td>\n",
              "      <td>2</td>\n",
              "      <td>RJ</td>\n",
              "      <td>PE</td>\n",
              "      <td>PE</td>\n",
              "    </tr>\n",
              "    <tr>\n",
              "      <th>2</th>\n",
              "      <td>16h00</td>\n",
              "      <td>Sábado</td>\n",
              "      <td>2000-07-29</td>\n",
              "      <td>Vitória</td>\n",
              "      <td>Palmeiras</td>\n",
              "      <td>Vitória</td>\n",
              "      <td>1ª Rodada</td>\n",
              "      <td>Barradão</td>\n",
              "      <td>4</td>\n",
              "      <td>1</td>\n",
              "      <td>ES</td>\n",
              "      <td>SP</td>\n",
              "      <td>ES</td>\n",
              "    </tr>\n",
              "    <tr>\n",
              "      <th>3</th>\n",
              "      <td>17h00</td>\n",
              "      <td>Domingo</td>\n",
              "      <td>2000-07-30</td>\n",
              "      <td>Botafogo-RJ</td>\n",
              "      <td>Atlético-MG</td>\n",
              "      <td>-</td>\n",
              "      <td>1ª Rodada</td>\n",
              "      <td>Caio Martins</td>\n",
              "      <td>0</td>\n",
              "      <td>0</td>\n",
              "      <td>RJ</td>\n",
              "      <td>MG</td>\n",
              "      <td>Empate</td>\n",
              "    </tr>\n",
              "    <tr>\n",
              "      <th>4</th>\n",
              "      <td>18h30</td>\n",
              "      <td>Domingo</td>\n",
              "      <td>2000-07-30</td>\n",
              "      <td>Juventude</td>\n",
              "      <td>Flamengo</td>\n",
              "      <td>-</td>\n",
              "      <td>1ª Rodada</td>\n",
              "      <td>Alfredo Jaconi</td>\n",
              "      <td>1</td>\n",
              "      <td>1</td>\n",
              "      <td>RS</td>\n",
              "      <td>RJ</td>\n",
              "      <td>Empate</td>\n",
              "    </tr>\n",
              "  </tbody>\n",
              "</table>\n",
              "</div>"
            ],
            "text/plain": [
              "  Horário      Dia  ... Clube 2 Estado Estado Clube Vencedor\n",
              "0   16h00   Sábado  ...             BA                    RJ\n",
              "1   16h00   Sábado  ...             PE                    PE\n",
              "2   16h00   Sábado  ...             SP                    ES\n",
              "3   17h00  Domingo  ...             MG                Empate\n",
              "4   18h30  Domingo  ...             RJ                Empate\n",
              "\n",
              "[5 rows x 13 columns]"
            ]
          },
          "metadata": {
            "tags": []
          },
          "execution_count": 4
        }
      ]
    },
    {
      "cell_type": "code",
      "metadata": {
        "id": "L5vdLA3Vf5Jj",
        "colab": {
          "base_uri": "https://localhost:8080/"
        },
        "outputId": "f1d49761-3ae3-4528-ed53-a8787e549ecf"
      },
      "source": [
        "times.info()"
      ],
      "execution_count": null,
      "outputs": [
        {
          "output_type": "stream",
          "text": [
            "<class 'pandas.core.frame.DataFrame'>\n",
            "RangeIndex: 7939 entries, 0 to 7938\n",
            "Data columns (total 13 columns):\n",
            " #   Column                 Non-Null Count  Dtype \n",
            "---  ------                 --------------  ----- \n",
            " 0   Horário                7582 non-null   object\n",
            " 1   Dia                    7939 non-null   object\n",
            " 2   Data                   7939 non-null   object\n",
            " 3   Clube 1                7939 non-null   object\n",
            " 4   Clube 2                7939 non-null   object\n",
            " 5   Vencedor               7939 non-null   object\n",
            " 6   Rodada                 7939 non-null   object\n",
            " 7   Arena                  7939 non-null   object\n",
            " 8   Clube 1 Gols           7939 non-null   int64 \n",
            " 9   Clube 2 Gols           7939 non-null   int64 \n",
            " 10  Clube 1 Estado         7939 non-null   object\n",
            " 11  Clube 2 Estado         7939 non-null   object\n",
            " 12  Estado Clube Vencedor  7939 non-null   object\n",
            "dtypes: int64(2), object(11)\n",
            "memory usage: 806.4+ KB\n"
          ],
          "name": "stdout"
        }
      ]
    },
    {
      "cell_type": "markdown",
      "metadata": {
        "id": "zCnDaoEsyiNt"
      },
      "source": [
        "#### Renomeando colunas"
      ]
    },
    {
      "cell_type": "code",
      "metadata": {
        "id": "ayqjmuPygkk4",
        "colab": {
          "base_uri": "https://localhost:8080/",
          "height": 197
        },
        "outputId": "c2c804f7-ea53-4372-a4ae-d1e5839e0974"
      },
      "source": [
        "times = times.rename(columns={'Clube 1':'Mandante','Clube 2':'Visitante','Clube 1 Gols':'MandanteGols','Clube 2 Gols':'VisitanteGols'})\n",
        "times.head()\n"
      ],
      "execution_count": null,
      "outputs": [
        {
          "output_type": "execute_result",
          "data": {
            "text/html": [
              "<div>\n",
              "<style scoped>\n",
              "    .dataframe tbody tr th:only-of-type {\n",
              "        vertical-align: middle;\n",
              "    }\n",
              "\n",
              "    .dataframe tbody tr th {\n",
              "        vertical-align: top;\n",
              "    }\n",
              "\n",
              "    .dataframe thead th {\n",
              "        text-align: right;\n",
              "    }\n",
              "</style>\n",
              "<table border=\"1\" class=\"dataframe\">\n",
              "  <thead>\n",
              "    <tr style=\"text-align: right;\">\n",
              "      <th></th>\n",
              "      <th>Horário</th>\n",
              "      <th>Dia</th>\n",
              "      <th>Data</th>\n",
              "      <th>Mandante</th>\n",
              "      <th>Visitante</th>\n",
              "      <th>Vencedor</th>\n",
              "      <th>Rodada</th>\n",
              "      <th>Arena</th>\n",
              "      <th>MandanteGols</th>\n",
              "      <th>VisitanteGols</th>\n",
              "      <th>Clube 1 Estado</th>\n",
              "      <th>Clube 2 Estado</th>\n",
              "      <th>Estado Clube Vencedor</th>\n",
              "    </tr>\n",
              "  </thead>\n",
              "  <tbody>\n",
              "    <tr>\n",
              "      <th>0</th>\n",
              "      <td>16h00</td>\n",
              "      <td>Sábado</td>\n",
              "      <td>2000-07-29</td>\n",
              "      <td>Fluminense</td>\n",
              "      <td>Bahia</td>\n",
              "      <td>Fluminense</td>\n",
              "      <td>1ª Rodada</td>\n",
              "      <td>Maracanã</td>\n",
              "      <td>2</td>\n",
              "      <td>0</td>\n",
              "      <td>RJ</td>\n",
              "      <td>BA</td>\n",
              "      <td>RJ</td>\n",
              "    </tr>\n",
              "    <tr>\n",
              "      <th>1</th>\n",
              "      <td>16h00</td>\n",
              "      <td>Sábado</td>\n",
              "      <td>2000-07-29</td>\n",
              "      <td>Vasco</td>\n",
              "      <td>Sport</td>\n",
              "      <td>Sport</td>\n",
              "      <td>1ª Rodada</td>\n",
              "      <td>São Januário</td>\n",
              "      <td>0</td>\n",
              "      <td>2</td>\n",
              "      <td>RJ</td>\n",
              "      <td>PE</td>\n",
              "      <td>PE</td>\n",
              "    </tr>\n",
              "    <tr>\n",
              "      <th>2</th>\n",
              "      <td>16h00</td>\n",
              "      <td>Sábado</td>\n",
              "      <td>2000-07-29</td>\n",
              "      <td>Vitória</td>\n",
              "      <td>Palmeiras</td>\n",
              "      <td>Vitória</td>\n",
              "      <td>1ª Rodada</td>\n",
              "      <td>Barradão</td>\n",
              "      <td>4</td>\n",
              "      <td>1</td>\n",
              "      <td>ES</td>\n",
              "      <td>SP</td>\n",
              "      <td>ES</td>\n",
              "    </tr>\n",
              "    <tr>\n",
              "      <th>3</th>\n",
              "      <td>17h00</td>\n",
              "      <td>Domingo</td>\n",
              "      <td>2000-07-30</td>\n",
              "      <td>Botafogo-RJ</td>\n",
              "      <td>Atlético-MG</td>\n",
              "      <td>-</td>\n",
              "      <td>1ª Rodada</td>\n",
              "      <td>Caio Martins</td>\n",
              "      <td>0</td>\n",
              "      <td>0</td>\n",
              "      <td>RJ</td>\n",
              "      <td>MG</td>\n",
              "      <td>Empate</td>\n",
              "    </tr>\n",
              "    <tr>\n",
              "      <th>4</th>\n",
              "      <td>18h30</td>\n",
              "      <td>Domingo</td>\n",
              "      <td>2000-07-30</td>\n",
              "      <td>Juventude</td>\n",
              "      <td>Flamengo</td>\n",
              "      <td>-</td>\n",
              "      <td>1ª Rodada</td>\n",
              "      <td>Alfredo Jaconi</td>\n",
              "      <td>1</td>\n",
              "      <td>1</td>\n",
              "      <td>RS</td>\n",
              "      <td>RJ</td>\n",
              "      <td>Empate</td>\n",
              "    </tr>\n",
              "  </tbody>\n",
              "</table>\n",
              "</div>"
            ],
            "text/plain": [
              "  Horário      Dia  ... Clube 2 Estado Estado Clube Vencedor\n",
              "0   16h00   Sábado  ...             BA                    RJ\n",
              "1   16h00   Sábado  ...             PE                    PE\n",
              "2   16h00   Sábado  ...             SP                    ES\n",
              "3   17h00  Domingo  ...             MG                Empate\n",
              "4   18h30  Domingo  ...             RJ                Empate\n",
              "\n",
              "[5 rows x 13 columns]"
            ]
          },
          "metadata": {
            "tags": []
          },
          "execution_count": 6
        }
      ]
    },
    {
      "cell_type": "code",
      "metadata": {
        "id": "zGypXG8FgFry",
        "colab": {
          "base_uri": "https://localhost:8080/",
          "height": 287
        },
        "outputId": "5327e39c-ff6d-4632-e4b3-010a191f83a3"
      },
      "source": [
        "times.describe()"
      ],
      "execution_count": null,
      "outputs": [
        {
          "output_type": "execute_result",
          "data": {
            "text/html": [
              "<div>\n",
              "<style scoped>\n",
              "    .dataframe tbody tr th:only-of-type {\n",
              "        vertical-align: middle;\n",
              "    }\n",
              "\n",
              "    .dataframe tbody tr th {\n",
              "        vertical-align: top;\n",
              "    }\n",
              "\n",
              "    .dataframe thead th {\n",
              "        text-align: right;\n",
              "    }\n",
              "</style>\n",
              "<table border=\"1\" class=\"dataframe\">\n",
              "  <thead>\n",
              "    <tr style=\"text-align: right;\">\n",
              "      <th></th>\n",
              "      <th>MandanteGols</th>\n",
              "      <th>VisitanteGols</th>\n",
              "    </tr>\n",
              "  </thead>\n",
              "  <tbody>\n",
              "    <tr>\n",
              "      <th>count</th>\n",
              "      <td>7939.000000</td>\n",
              "      <td>7939.000000</td>\n",
              "    </tr>\n",
              "    <tr>\n",
              "      <th>mean</th>\n",
              "      <td>1.596801</td>\n",
              "      <td>1.052526</td>\n",
              "    </tr>\n",
              "    <tr>\n",
              "      <th>std</th>\n",
              "      <td>1.251372</td>\n",
              "      <td>1.039719</td>\n",
              "    </tr>\n",
              "    <tr>\n",
              "      <th>min</th>\n",
              "      <td>0.000000</td>\n",
              "      <td>0.000000</td>\n",
              "    </tr>\n",
              "    <tr>\n",
              "      <th>25%</th>\n",
              "      <td>1.000000</td>\n",
              "      <td>0.000000</td>\n",
              "    </tr>\n",
              "    <tr>\n",
              "      <th>50%</th>\n",
              "      <td>1.000000</td>\n",
              "      <td>1.000000</td>\n",
              "    </tr>\n",
              "    <tr>\n",
              "      <th>75%</th>\n",
              "      <td>2.000000</td>\n",
              "      <td>2.000000</td>\n",
              "    </tr>\n",
              "    <tr>\n",
              "      <th>max</th>\n",
              "      <td>7.000000</td>\n",
              "      <td>7.000000</td>\n",
              "    </tr>\n",
              "  </tbody>\n",
              "</table>\n",
              "</div>"
            ],
            "text/plain": [
              "       MandanteGols  VisitanteGols\n",
              "count   7939.000000    7939.000000\n",
              "mean       1.596801       1.052526\n",
              "std        1.251372       1.039719\n",
              "min        0.000000       0.000000\n",
              "25%        1.000000       0.000000\n",
              "50%        1.000000       1.000000\n",
              "75%        2.000000       2.000000\n",
              "max        7.000000       7.000000"
            ]
          },
          "metadata": {
            "tags": []
          },
          "execution_count": 7
        }
      ]
    },
    {
      "cell_type": "code",
      "metadata": {
        "colab": {
          "base_uri": "https://localhost:8080/",
          "height": 281
        },
        "id": "GgFdxyadzW65",
        "outputId": "1ea1f981-428c-449b-9305-5f4169fd2f37"
      },
      "source": [
        "times.boxplot()"
      ],
      "execution_count": null,
      "outputs": [
        {
          "output_type": "execute_result",
          "data": {
            "text/plain": [
              "<matplotlib.axes._subplots.AxesSubplot at 0x7fd5a708b650>"
            ]
          },
          "metadata": {
            "tags": []
          },
          "execution_count": 8
        },
        {
          "output_type": "display_data",
          "data": {
            "image/png": "[encoded data removed]",
            "text/plain": [
              "<Figure size 432x288 with 1 Axes>"
            ]
          },
          "metadata": {
            "tags": [],
            "needs_background": "light"
          }
        }
      ]
    },
    {
      "cell_type": "code",
      "metadata": {
        "colab": {
          "base_uri": "https://localhost:8080/",
          "height": 608
        },
        "id": "3hS6tEOAaI9-",
        "outputId": "34eb9a01-14f6-4fb5-f3ea-70bc9a37e5ad"
      },
      "source": [
        "times.groupby(['Mandante'])['MandanteGols'].sum().sort_values().plot(kind='barh',figsize=(10,10))"
      ],
      "execution_count": null,
      "outputs": [
        {
          "output_type": "execute_result",
          "data": {
            "text/plain": [
              "<matplotlib.axes._subplots.AxesSubplot at 0x7fd5a6f80c10>"
            ]
          },
          "metadata": {
            "tags": []
          },
          "execution_count": 9
        },
        {
          "output_type": "display_data",
          "data": {
            "image/png": "[encoded data removed]",
            "text/plain": [
              "<Figure size 720x720 with 1 Axes>"
            ]
          },
          "metadata": {
            "tags": [],
            "needs_background": "light"
          }
        }
      ]
    },
    {
      "cell_type": "markdown",
      "metadata": {
        "id": "Ff587SQ2di7C"
      },
      "source": [
        "Tratando Alguns Nomes de times que estavam em caixa alta, como podemos ver no gráfica acima para não haver divergencias nas contagens e considerações."
      ]
    },
    {
      "cell_type": "code",
      "metadata": {
        "id": "PaaPnXGEbbIJ"
      },
      "source": [
        "def corrigir_nomes(nome):\n",
        "    nome = nome.replace('PALMEIRAS', 'Palmeiras').replace('CRUZEIRO', 'Cruzeiro').replace('VASCO', 'Vasco').replace('SANTOS', 'Santos').replace('CORINTHIANS','Corinthians').replace('BAHIA','Bahia').replace('PONTE PRETA','Ponte Preta').replace('FLAMENGO','Flamengo').replace('SPORT','Sport').replace('REMO','Remo').replace('INTERNACIONAL','Internacional').replace('JUVENTUDE','Juventude').replace('FLUMINENSE','Fluminense')\n",
        "    return nome\n",
        "times['Mandante'] = times['Mandante'].apply(corrigir_nomes)\n",
        "times['Visitante'] = times['Visitante'].apply(corrigir_nomes)"
      ],
      "execution_count": null,
      "outputs": []
    },
    {
      "cell_type": "markdown",
      "metadata": {
        "id": "fPDaF7o4TOb4"
      },
      "source": [
        "#### Plotando indicadores  para análise exploratória"
      ]
    },
    {
      "cell_type": "code",
      "metadata": {
        "colab": {
          "base_uri": "https://localhost:8080/",
          "height": 707
        },
        "id": "CIntM4bUMB69",
        "outputId": "1eefa0ce-38c9-4ac0-89b6-b27ed9657041"
      },
      "source": [
        "mandantes = times.groupby(\"Mandante\")[\"MandanteGols\"].sum().reset_index()\n",
        "visitantes = times.groupby(\"Visitante\")[\"VisitanteGols\"].sum().reset_index()\n",
        "mandantes = mandantes.sort_values(by=\"MandanteGols\",ascending= False)\n",
        "visitantes = visitantes.sort_values(by=\"VisitanteGols\",ascending= False)\n",
        "plt.figure(figsize=(13,10))\n",
        "plt.subplot(121)\n",
        "ax = sns.barplot(y=\"Mandante\",x=\"MandanteGols\",\n",
        "                 data=mandantes[:20],palette=\"summer\",\n",
        "                 linewidth = 1,edgecolor = \"k\"*20)\n",
        "plt.ylabel('')\n",
        "plt.title(\"Melhores Mandantes\")\n",
        "for i,j in enumerate(mandantes['MandanteGols'][:20]):\n",
        "    ax.text(.7,i,j,weight = \"bold\")\n",
        "plt.subplot(122)\n",
        "ax = sns.barplot(y=\"Visitante\",x=\"VisitanteGols\",\n",
        "                 data=visitantes[:20],palette=\"winter\",\n",
        "                linewidth = 1,edgecolor = \"k\"*20)\n",
        "plt.ylabel(\"\")\n",
        "plt.subplots_adjust(wspace = .4)\n",
        "plt.title(\"Melhores Visitantes\")\n",
        "for i,j in enumerate(visitantes['VisitanteGols'][:20]):\n",
        "    ax.text(.7,i,j,weight = \"bold\")"
      ],
      "execution_count": null,
      "outputs": [
        {
          "output_type": "stream",
          "text": [
            "/usr/local/lib/python3.7/dist-packages/seaborn/categorical.py:1605: MatplotlibDeprecationWarning: Using a string of single character colors as a color sequence is deprecated. Use an explicit list instead.\n",
            "  color=self.colors, align=\"center\", **kws)\n",
            "/usr/local/lib/python3.7/dist-packages/seaborn/categorical.py:1605: MatplotlibDeprecationWarning: Using a string of single character colors as a color sequence is deprecated. Use an explicit list instead.\n",
            "  color=self.colors, align=\"center\", **kws)\n"
          ],
          "name": "stderr"
        },
        {
          "output_type": "display_data",
          "data": {
            "image/png": "[encoded data removed]",
            "text/plain": [
              "<Figure size 936x720 with 2 Axes>"
            ]
          },
          "metadata": {
            "tags": [],
            "needs_background": "light"
          }
        }
      ]
    },
    {
      "cell_type": "code",
      "metadata": {
        "colab": {
          "base_uri": "https://localhost:8080/",
          "height": 783
        },
        "id": "ZjOyM6bIWQML",
        "outputId": "42c4de65-50c2-4d07-b624-f4f79b4058be"
      },
      "source": [
        "x = mandantes\n",
        "x = x.rename(columns={'Mandante':\"time\", 'MandanteGols':\"gols\"})\n",
        "y = visitantes\n",
        "y = y.rename(columns={'Visitante':\"time\", 'VisitanteGols':\"gols\"})\n",
        "gols = pd.concat([x,y])\n",
        "gols = gols.groupby(\"time\")[\"gols\"].sum().reset_index().sort_values(by = \"gols\",ascending = False)\n",
        "plt.figure(figsize=(9,12))\n",
        "ax = sns.barplot(x=\"gols\",y=\"time\",\n",
        "                 data=gols[:20],palette=\"rainbow\",\n",
        "                linewidth = 1,edgecolor = \"k\"*30)\n",
        "for i,j in enumerate(gols[\"gols\"][:20]):\n",
        "    ax.text(.3,i,j,weight=\"bold\",color = \"k\",fontsize =12)\n",
        "plt.title(\"Times com maior número de gols\")\n",
        "plt.show()"
      ],
      "execution_count": null,
      "outputs": [
        {
          "output_type": "stream",
          "text": [
            "/usr/local/lib/python3.7/dist-packages/seaborn/categorical.py:1605: MatplotlibDeprecationWarning: Using a string of single character colors as a color sequence is deprecated. Use an explicit list instead.\n",
            "  color=self.colors, align=\"center\", **kws)\n"
          ],
          "name": "stderr"
        },
        {
          "output_type": "display_data",
          "data": {
            "image/png": "[encoded data removed]",
            "text/plain": [
              "<Figure size 648x864 with 1 Axes>"
            ]
          },
          "metadata": {
            "tags": [],
            "needs_background": "light"
          }
        }
      ]
    },
    {
      "cell_type": "markdown",
      "metadata": {
        "id": "KfUePsY2y1r6"
      },
      "source": [
        "#### Definindo colunas interessantes ao modelo"
      ]
    },
    {
      "cell_type": "code",
      "metadata": {
        "id": "DuKFbYmSiM69"
      },
      "source": [
        "entradas = ['Data','Mandante','Visitante','MandanteGols','VisitanteGols','Vencedor','Rodada']\n",
        "df_entradas = times[entradas]"
      ],
      "execution_count": null,
      "outputs": []
    },
    {
      "cell_type": "markdown",
      "metadata": {
        "id": "8pkfyiSRzNlO"
      },
      "source": [
        "#### Transformando a coluna Data para datetime e criando uma coluna apenas com o ano "
      ]
    },
    {
      "cell_type": "code",
      "metadata": {
        "id": "b8kYUcEwnJ31",
        "colab": {
          "base_uri": "https://localhost:8080/"
        },
        "outputId": "5e8e364a-c44e-414f-c7dc-77d7b553f5cc"
      },
      "source": [
        "df_entradas['Data']= pd.to_datetime(df_entradas['Data'],format='%Y/%m/%d')\n",
        "df_entradas['Ano'] = df_entradas['Data'].dt.year\n",
        "df_entradas = df_entradas.drop_duplicates()\n",
        "df_entradas.info()"
      ],
      "execution_count": null,
      "outputs": [
        {
          "output_type": "stream",
          "text": [
            "<class 'pandas.core.frame.DataFrame'>\n",
            "Int64Index: 7939 entries, 0 to 7938\n",
            "Data columns (total 8 columns):\n",
            " #   Column         Non-Null Count  Dtype         \n",
            "---  ------         --------------  -----         \n",
            " 0   Data           7939 non-null   datetime64[ns]\n",
            " 1   Mandante       7939 non-null   object        \n",
            " 2   Visitante      7939 non-null   object        \n",
            " 3   MandanteGols   7939 non-null   int64         \n",
            " 4   VisitanteGols  7939 non-null   int64         \n",
            " 5   Vencedor       7939 non-null   object        \n",
            " 6   Rodada         7939 non-null   object        \n",
            " 7   Ano            7939 non-null   int64         \n",
            "dtypes: datetime64[ns](1), int64(3), object(4)\n",
            "memory usage: 558.2+ KB\n"
          ],
          "name": "stdout"
        },
        {
          "output_type": "stream",
          "text": [
            "/usr/local/lib/python3.7/dist-packages/ipykernel_launcher.py:1: SettingWithCopyWarning: \n",
            "A value is trying to be set on a copy of a slice from a DataFrame.\n",
            "Try using .loc[row_indexer,col_indexer] = value instead\n",
            "\n",
            "See the caveats in the documentation: https://pandas.pydata.org/pandas-docs/stable/user_guide/indexing.html#returning-a-view-versus-a-copy\n",
            "  \"\"\"Entry point for launching an IPython kernel.\n",
            "/usr/local/lib/python3.7/dist-packages/ipykernel_launcher.py:2: SettingWithCopyWarning: \n",
            "A value is trying to be set on a copy of a slice from a DataFrame.\n",
            "Try using .loc[row_indexer,col_indexer] = value instead\n",
            "\n",
            "See the caveats in the documentation: https://pandas.pydata.org/pandas-docs/stable/user_guide/indexing.html#returning-a-view-versus-a-copy\n",
            "  \n"
          ],
          "name": "stderr"
        }
      ]
    },
    {
      "cell_type": "markdown",
      "metadata": {
        "id": "zgxoTsfRVH-d"
      },
      "source": [
        "#### Plotando Total de rodadas por ano"
      ]
    },
    {
      "cell_type": "code",
      "metadata": {
        "colab": {
          "base_uri": "https://localhost:8080/",
          "height": 1000
        },
        "id": "FURxGhDHUrV_",
        "outputId": "e5248457-a745-4823-dee1-3cc432da3840"
      },
      "source": [
        "rodadas = df_entradas.groupby(['Ano'])['Rodada'].nunique().reset_index()\n",
        "plt.figure(figsize=(10,10))\n",
        "ax = sns.barplot(x=\"Ano\",y=\"Rodada\",\n",
        "                 data=rodadas[:20],palette=\"summer\", \n",
        "                linewidth = 1,edgecolor = \"k\"*20)\n",
        "\n",
        "plt.title(\"Número de rodadas por ano\")\n",
        "plt.show()\n",
        "print(rodadas)"
      ],
      "execution_count": null,
      "outputs": [
        {
          "output_type": "stream",
          "text": [
            "/usr/local/lib/python3.7/dist-packages/seaborn/categorical.py:1605: MatplotlibDeprecationWarning: Using a string of single character colors as a color sequence is deprecated. Use an explicit list instead.\n",
            "  color=self.colors, align=\"center\", **kws)\n"
          ],
          "name": "stderr"
        },
        {
          "output_type": "display_data",
          "data": {
            "image/png": "[encoded data removed]",
            "text/plain": [
              "<Figure size 720x720 with 1 Axes>"
            ]
          },
          "metadata": {
            "tags": [],
            "needs_background": "light"
          }
        },
        {
          "output_type": "stream",
          "text": [
            "     Ano  Rodada\n",
            "0   2000      38\n",
            "1   2001      31\n",
            "2   2002      32\n",
            "3   2003      46\n",
            "4   2004      46\n",
            "5   2005      42\n",
            "6   2006      38\n",
            "7   2007      38\n",
            "8   2008      38\n",
            "9   2009      38\n",
            "10  2010      38\n",
            "11  2011      38\n",
            "12  2012      38\n",
            "13  2013      38\n",
            "14  2014      38\n",
            "15  2015      38\n",
            "16  2016      38\n",
            "17  2017      38\n",
            "18  2018      38\n",
            "19  2019      38\n"
          ],
          "name": "stdout"
        }
      ]
    },
    {
      "cell_type": "markdown",
      "metadata": {
        "id": "qq4kupPwVqVL"
      },
      "source": [
        "## Engenharia de variáveis"
      ]
    },
    {
      "cell_type": "markdown",
      "metadata": {
        "id": "GzmpbVYxzeqR"
      },
      "source": [
        "#### Obtendo a média de gols feitos e sofridos por temporada "
      ]
    },
    {
      "cell_type": "code",
      "metadata": {
        "id": "tD55jD6Asjou",
        "colab": {
          "base_uri": "https://localhost:8080/"
        },
        "outputId": "7a89c0b3-ccc9-41b9-b162-1afd271ed1b7"
      },
      "source": [
        "avgMandanteTemporada = df_entradas.groupby(['Mandante','Ano'])['MandanteGols'].expanding().mean().reset_index()\n",
        "avgVisitanteTemporada = df_entradas.groupby(['Visitante','Ano'])['VisitanteGols'].expanding().mean().reset_index()\n",
        "\n",
        "avgMandanteTemporada = avgMandanteTemporada.rename(columns={'MandanteGols':'avgGFMandante'})\n",
        "avgVisitanteTemporada = avgVisitanteTemporada.rename(columns={'VisitanteGols':'avgGFVisitante'})\n",
        "\n",
        "\n",
        "print(avgMandanteTemporada)\n",
        "print(avgVisitanteTemporada)"
      ],
      "execution_count": null,
      "outputs": [
        {
          "output_type": "stream",
          "text": [
            "        Mandante   Ano  level_2  avgGFMandante\n",
            "0     América-MG  2000        7       0.000000\n",
            "1     América-MG  2000       58       0.500000\n",
            "2     América-MG  2000       69       0.333333\n",
            "3     América-MG  2000       96       0.500000\n",
            "4     América-MG  2000      105       1.400000\n",
            "...          ...   ...      ...            ...\n",
            "7934     Vitória  2018     7472       1.266667\n",
            "7935     Vitória  2018     7480       1.187500\n",
            "7936     Vitória  2018     7503       1.235294\n",
            "7937     Vitória  2018     7519       1.222222\n",
            "7938     Vitória  2018     7542       1.157895\n",
            "\n",
            "[7939 rows x 4 columns]\n",
            "       Visitante   Ano  level_2  avgGFVisitante\n",
            "0     América-MG  2000       14        1.000000\n",
            "1     América-MG  2000       55        0.500000\n",
            "2     América-MG  2000      112        0.333333\n",
            "3     América-MG  2000      130        0.500000\n",
            "4     América-MG  2000      147        0.400000\n",
            "...          ...   ...      ...             ...\n",
            "7934     Vitória  2018     7493        0.750000\n",
            "7935     Vitória  2018     7510        0.705882\n",
            "7936     Vitória  2018     7532        0.666667\n",
            "7937     Vitória  2018     7557        0.736842\n",
            "7938  portuguesa  2001      416        1.000000\n",
            "\n",
            "[7939 rows x 4 columns]\n"
          ],
          "name": "stdout"
        }
      ]
    },
    {
      "cell_type": "markdown",
      "metadata": {
        "id": "nJJnSc9tBZSc"
      },
      "source": [
        "Resolvendo inconsistência nas médias, elas estavam sendo calculadas considerando os gols do jogo em questão "
      ]
    },
    {
      "cell_type": "code",
      "metadata": {
        "id": "49GQathC70bd"
      },
      "source": [
        "avgMandanteTemporada['avgGFMandante'] = avgMandanteTemporada.groupby(['Mandante','Ano'])['avgGFMandante'].shift(1)\n",
        "avgVisitanteTemporada['avgGFVisitante'] = avgVisitanteTemporada.groupby(['Visitante','Ano'])['avgGFVisitante'].shift(1)"
      ],
      "execution_count": null,
      "outputs": []
    },
    {
      "cell_type": "markdown",
      "metadata": {
        "id": "HPJnKBl4BmFh"
      },
      "source": [
        "Colocando na ordem prevista no dataframe original"
      ]
    },
    {
      "cell_type": "code",
      "metadata": {
        "id": "nn-C3k9nsiB6"
      },
      "source": [
        "avgMandanteTemporada = avgMandanteTemporada.sort_values(by='level_2').reset_index()\n",
        "avgVisitanteTemporada = avgVisitanteTemporada.sort_values(by='level_2').reset_index()"
      ],
      "execution_count": null,
      "outputs": []
    },
    {
      "cell_type": "code",
      "metadata": {
        "colab": {
          "base_uri": "https://localhost:8080/",
          "height": 197
        },
        "id": "wWG-_nF9_56b",
        "outputId": "ed7d3e16-3acd-469e-9dc5-091874a25beb"
      },
      "source": [
        "df_entradas['avgGFMandante'] = avgMandanteTemporada['avgGFMandante']\n",
        "df_entradas['avgGFVisitante'] = avgVisitanteTemporada['avgGFVisitante']\n",
        "df_entradas.tail()"
      ],
      "execution_count": null,
      "outputs": [
        {
          "output_type": "execute_result",
          "data": {
            "text/html": [
              "<div>\n",
              "<style scoped>\n",
              "    .dataframe tbody tr th:only-of-type {\n",
              "        vertical-align: middle;\n",
              "    }\n",
              "\n",
              "    .dataframe tbody tr th {\n",
              "        vertical-align: top;\n",
              "    }\n",
              "\n",
              "    .dataframe thead th {\n",
              "        text-align: right;\n",
              "    }\n",
              "</style>\n",
              "<table border=\"1\" class=\"dataframe\">\n",
              "  <thead>\n",
              "    <tr style=\"text-align: right;\">\n",
              "      <th></th>\n",
              "      <th>Data</th>\n",
              "      <th>Mandante</th>\n",
              "      <th>Visitante</th>\n",
              "      <th>MandanteGols</th>\n",
              "      <th>VisitanteGols</th>\n",
              "      <th>Vencedor</th>\n",
              "      <th>Rodada</th>\n",
              "      <th>Ano</th>\n",
              "      <th>avgGFMandante</th>\n",
              "      <th>avgGFVisitante</th>\n",
              "    </tr>\n",
              "  </thead>\n",
              "  <tbody>\n",
              "    <tr>\n",
              "      <th>7934</th>\n",
              "      <td>2019-12-08</td>\n",
              "      <td>Goiás</td>\n",
              "      <td>Grêmio</td>\n",
              "      <td>3</td>\n",
              "      <td>2</td>\n",
              "      <td>Goiás</td>\n",
              "      <td>38ª Rodada</td>\n",
              "      <td>2019</td>\n",
              "      <td>1.555556</td>\n",
              "      <td>1.333333</td>\n",
              "    </tr>\n",
              "    <tr>\n",
              "      <th>7935</th>\n",
              "      <td>2019-12-08</td>\n",
              "      <td>Internacional</td>\n",
              "      <td>Atlético-MG</td>\n",
              "      <td>2</td>\n",
              "      <td>1</td>\n",
              "      <td>Internacional</td>\n",
              "      <td>38ª Rodada</td>\n",
              "      <td>2019</td>\n",
              "      <td>1.444444</td>\n",
              "      <td>0.888889</td>\n",
              "    </tr>\n",
              "    <tr>\n",
              "      <th>7936</th>\n",
              "      <td>2019-12-08</td>\n",
              "      <td>Cruzeiro</td>\n",
              "      <td>Palmeiras</td>\n",
              "      <td>0</td>\n",
              "      <td>2</td>\n",
              "      <td>Palmeiras</td>\n",
              "      <td>38ª Rodada</td>\n",
              "      <td>2019</td>\n",
              "      <td>0.722222</td>\n",
              "      <td>1.055556</td>\n",
              "    </tr>\n",
              "    <tr>\n",
              "      <th>7937</th>\n",
              "      <td>2019-12-08</td>\n",
              "      <td>Santos</td>\n",
              "      <td>Flamengo</td>\n",
              "      <td>4</td>\n",
              "      <td>0</td>\n",
              "      <td>Santos</td>\n",
              "      <td>38ª Rodada</td>\n",
              "      <td>2019</td>\n",
              "      <td>2.222222</td>\n",
              "      <td>1.666667</td>\n",
              "    </tr>\n",
              "    <tr>\n",
              "      <th>7938</th>\n",
              "      <td>2019-12-08</td>\n",
              "      <td>CSA</td>\n",
              "      <td>São Paulo</td>\n",
              "      <td>1</td>\n",
              "      <td>2</td>\n",
              "      <td>São Paulo</td>\n",
              "      <td>38ª Rodada</td>\n",
              "      <td>2019</td>\n",
              "      <td>0.888889</td>\n",
              "      <td>0.777778</td>\n",
              "    </tr>\n",
              "  </tbody>\n",
              "</table>\n",
              "</div>"
            ],
            "text/plain": [
              "           Data       Mandante  ... avgGFMandante  avgGFVisitante\n",
              "7934 2019-12-08          Goiás  ...      1.555556        1.333333\n",
              "7935 2019-12-08  Internacional  ...      1.444444        0.888889\n",
              "7936 2019-12-08       Cruzeiro  ...      0.722222        1.055556\n",
              "7937 2019-12-08         Santos  ...      2.222222        1.666667\n",
              "7938 2019-12-08            CSA  ...      0.888889        0.777778\n",
              "\n",
              "[5 rows x 10 columns]"
            ]
          },
          "metadata": {
            "tags": []
          },
          "execution_count": 19
        }
      ]
    },
    {
      "cell_type": "code",
      "metadata": {
        "id": "COAFzdam_2gx",
        "colab": {
          "base_uri": "https://localhost:8080/"
        },
        "outputId": "f550bf36-32ac-4f64-8af5-7c3991da5fed"
      },
      "source": [
        "avgGSMandanteTemporada = df_entradas.groupby(['Ano','Mandante'])['VisitanteGols'].expanding().mean().reset_index()\n",
        "avgGSVisitanteTemporada = df_entradas.groupby(['Ano','Visitante'])['MandanteGols'].expanding().mean().reset_index()\n",
        "\n",
        "avgGSMandanteTemporada = avgGSMandanteTemporada.rename(columns={'VisitanteGols':'avgGSMandante'})\n",
        "avgGSVisitanteTemporada = avgGSVisitanteTemporada.rename(columns={'MandanteGols':'avgGSVisitante'})\n",
        "\n",
        "avgGSMandanteTemporada = avgGSMandanteTemporada.drop_duplicates()\n",
        "avgGSVisitanteTemporada = avgGSVisitanteTemporada.drop_duplicates()\n",
        "\n",
        "\n",
        "print(avgGSMandanteTemporada)\n",
        "print(avgGSVisitanteTemporada)"
      ],
      "execution_count": null,
      "outputs": [
        {
          "output_type": "stream",
          "text": [
            "       Ano    Mandante  level_2  avgGSMandante\n",
            "0     2000  América-MG        7       1.000000\n",
            "1     2000  América-MG       58       1.000000\n",
            "2     2000  América-MG       69       0.666667\n",
            "3     2000  América-MG       96       0.500000\n",
            "4     2000  América-MG      105       0.800000\n",
            "...    ...         ...      ...            ...\n",
            "7934  2019       Vasco     7843       1.200000\n",
            "7935  2019       Vasco     7863       1.250000\n",
            "7936  2019       Vasco     7889       1.235294\n",
            "7937  2019       Vasco     7918       1.166667\n",
            "7938  2019       Vasco     7931       1.157895\n",
            "\n",
            "[7939 rows x 4 columns]\n",
            "       Ano   Visitante  level_2  avgGSVisitante\n",
            "0     2000  América-MG       14        3.000000\n",
            "1     2000  América-MG       55        3.000000\n",
            "2     2000  América-MG      112        2.666667\n",
            "3     2000  América-MG      130        2.500000\n",
            "4     2000  América-MG      147        2.800000\n",
            "...    ...         ...      ...             ...\n",
            "7934  2019       Vasco     7850        1.133333\n",
            "7935  2019       Vasco     7877        1.062500\n",
            "7936  2019       Vasco     7879        1.235294\n",
            "7937  2019       Vasco     7908        1.222222\n",
            "7938  2019       Vasco     7925        1.210526\n",
            "\n",
            "[7939 rows x 4 columns]\n"
          ],
          "name": "stdout"
        }
      ]
    },
    {
      "cell_type": "code",
      "metadata": {
        "id": "V5uC9vHhD3Yx"
      },
      "source": [
        "avgGSMandanteTemporada['avgGSMandante'] = avgGSMandanteTemporada.groupby(['Mandante','Ano'])['avgGSMandante'].shift(1)\n",
        "avgGSVisitanteTemporada['avgGSVisitante'] = avgGSVisitanteTemporada.groupby(['Visitante','Ano'])['avgGSVisitante'].shift(1)"
      ],
      "execution_count": null,
      "outputs": []
    },
    {
      "cell_type": "code",
      "metadata": {
        "id": "7WN6p7PSERpg"
      },
      "source": [
        "avgGSMandanteTemporada = avgGSMandanteTemporada.sort_values(by='level_2').reset_index()\n",
        "avgGSVisitanteTemporada = avgGSVisitanteTemporada.sort_values(by='level_2').reset_index()"
      ],
      "execution_count": null,
      "outputs": []
    },
    {
      "cell_type": "markdown",
      "metadata": {
        "id": "LSax8W38gJ-O"
      },
      "source": [
        "Verificando distribuição de frequencia dos dados \n",
        "\n"
      ]
    },
    {
      "cell_type": "code",
      "metadata": {
        "colab": {
          "base_uri": "https://localhost:8080/",
          "height": 312
        },
        "id": "I99UflUx4nEl",
        "outputId": "4c10499a-4bb3-45f0-be65-3fd0d2665277"
      },
      "source": [
        "df_entradas.avgGFMandante.plot(kind='hist')\n",
        "df_entradas.avgGFVisitante.plot(kind='hist')\n",
        "plt.title(\"Distribuição dos gols feitos por times mandantes e visitantes\")\n",
        "plt.xlabel('Número de gols')\n",
        "plt.legend(loc = \"best\" , prop = {\"size\" : 14})\n"
      ],
      "execution_count": null,
      "outputs": [
        {
          "output_type": "execute_result",
          "data": {
            "text/plain": [
              "<matplotlib.legend.Legend at 0x7fd5a4bdd190>"
            ]
          },
          "metadata": {
            "tags": []
          },
          "execution_count": 23
        },
        {
          "output_type": "display_data",
          "data": {
            "image/png": "[encoded data removed]",
            "text/plain": [
              "<Figure size 432x288 with 1 Axes>"
            ]
          },
          "metadata": {
            "tags": [],
            "needs_background": "light"
          }
        }
      ]
    },
    {
      "cell_type": "code",
      "metadata": {
        "colab": {
          "base_uri": "https://localhost:8080/"
        },
        "id": "ARKgtl-2EbQT",
        "outputId": "6cf7995b-e79a-4881-bf6d-73775074ba7d"
      },
      "source": [
        "df_entradas['avgGSMandante'] = avgGSMandanteTemporada['avgGSMandante']\n",
        "df_entradas['avgGSVisitante'] = avgGSVisitanteTemporada['avgGSVisitante']\n",
        "df_entradas.info()"
      ],
      "execution_count": null,
      "outputs": [
        {
          "output_type": "stream",
          "text": [
            "<class 'pandas.core.frame.DataFrame'>\n",
            "Int64Index: 7939 entries, 0 to 7938\n",
            "Data columns (total 12 columns):\n",
            " #   Column          Non-Null Count  Dtype         \n",
            "---  ------          --------------  -----         \n",
            " 0   Data            7939 non-null   datetime64[ns]\n",
            " 1   Mandante        7939 non-null   object        \n",
            " 2   Visitante       7939 non-null   object        \n",
            " 3   MandanteGols    7939 non-null   int64         \n",
            " 4   VisitanteGols   7939 non-null   int64         \n",
            " 5   Vencedor        7939 non-null   object        \n",
            " 6   Rodada          7939 non-null   object        \n",
            " 7   Ano             7939 non-null   int64         \n",
            " 8   avgGFMandante   7506 non-null   float64       \n",
            " 9   avgGFVisitante  7501 non-null   float64       \n",
            " 10  avgGSMandante   7506 non-null   float64       \n",
            " 11  avgGSVisitante  7501 non-null   float64       \n",
            "dtypes: datetime64[ns](1), float64(4), int64(3), object(4)\n",
            "memory usage: 806.3+ KB\n"
          ],
          "name": "stdout"
        }
      ]
    },
    {
      "cell_type": "code",
      "metadata": {
        "colab": {
          "base_uri": "https://localhost:8080/",
          "height": 312
        },
        "id": "4-96R4YFgUnc",
        "outputId": "867b8a6b-0f87-436b-8270-531c4b100378"
      },
      "source": [
        "df_entradas.avgGSMandante.plot(kind='hist')\n",
        "df_entradas.avgGSVisitante.plot(kind='hist')\n",
        "plt.title(\"Distribuição dos gols sofridos por times mandantes e visitantes\")\n",
        "plt.xlabel('Número de gols')\n",
        "plt.legend(loc = \"best\" , prop = {\"size\" : 14})"
      ],
      "execution_count": null,
      "outputs": [
        {
          "output_type": "execute_result",
          "data": {
            "text/plain": [
              "<matplotlib.legend.Legend at 0x7fd5a4be1350>"
            ]
          },
          "metadata": {
            "tags": []
          },
          "execution_count": 25
        },
        {
          "output_type": "display_data",
          "data": {
            "image/png": "[encoded data removed]",
            "text/plain": [
              "<Figure size 432x288 with 1 Axes>"
            ]
          },
          "metadata": {
            "tags": [],
            "needs_background": "light"
          }
        }
      ]
    },
    {
      "cell_type": "markdown",
      "metadata": {
        "id": "GzmahA7t0Da9"
      },
      "source": [
        "#### Obtendo o Total de vitórias \n",
        "> Verifiquei que essa feature  não influencia positivamente o modelo."
      ]
    },
    {
      "cell_type": "code",
      "metadata": {
        "id": "y9tv5omsHscW",
        "colab": {
          "base_uri": "https://localhost:8080/"
        },
        "outputId": "ea2db04c-6567-45a7-a5c8-b3df1af743f0"
      },
      "source": [
        "nVitoriasM = df_entradas.loc[df_entradas['Vencedor'] == df_entradas['Mandante']]\n",
        "nVitoriasM = nVitoriasM.groupby(['Ano'])['Vencedor'].value_counts().to_frame(name='nVitoriasM')\n",
        "nVitoriasM = nVitoriasM.reset_index(level=['Ano','Vencedor'])\n",
        "print(nVitoriasM)\n"
      ],
      "execution_count": null,
      "outputs": [
        {
          "output_type": "stream",
          "text": [
            "      Ano     Vencedor  nVitoriasM\n",
            "0    2000   Fluminense           9\n",
            "1    2000  Ponte Preta           9\n",
            "2    2000        Bahia           8\n",
            "3    2000       Grêmio           8\n",
            "4    2000   Portuguesa           8\n",
            "..    ...          ...         ...\n",
            "426  2019          CSA           6\n",
            "427  2019   Fluminense           6\n",
            "428  2019     Cruzeiro           5\n",
            "429  2019  Chapecoense           4\n",
            "430  2019         Avaí           1\n",
            "\n",
            "[431 rows x 3 columns]\n"
          ],
          "name": "stdout"
        }
      ]
    },
    {
      "cell_type": "code",
      "metadata": {
        "id": "rEmZAK8bUyfF",
        "colab": {
          "base_uri": "https://localhost:8080/"
        },
        "outputId": "c9ad357b-864b-42c8-e403-04937008dd96"
      },
      "source": [
        "nVitoriasV = df_entradas.loc[df_entradas['Vencedor'] == df_entradas['Visitante']]\n",
        "nVitoriasV = nVitoriasV.groupby(['Ano'])['Vencedor'].value_counts().to_frame(name='nVitoriasV')\n",
        "nVitoriasV = nVitoriasV.reset_index(level=['Ano','Vencedor'])\n",
        "print(nVitoriasV)"
      ],
      "execution_count": null,
      "outputs": [
        {
          "output_type": "stream",
          "text": [
            "      Ano      Vencedor  nVitoriasV\n",
            "0    2000     Palmeiras           6\n",
            "1    2000  Athlético-PR           5\n",
            "2    2000      Cruzeiro           5\n",
            "3    2000         Goiás           4\n",
            "4    2000        Grêmio           4\n",
            "..    ...           ...         ...\n",
            "423  2019   Chapecoense           3\n",
            "424  2019          Avaí           2\n",
            "425  2019           CSA           2\n",
            "426  2019         Ceará           2\n",
            "427  2019      Cruzeiro           2\n",
            "\n",
            "[428 rows x 3 columns]\n"
          ],
          "name": "stdout"
        }
      ]
    },
    {
      "cell_type": "markdown",
      "metadata": {
        "id": "uzUkf2ETWKfY"
      },
      "source": [
        "#### Obetendo Total de gols marcados nos últimos 3 jogos."
      ]
    },
    {
      "cell_type": "code",
      "metadata": {
        "id": "k_37zmoTUJNA",
        "colab": {
          "base_uri": "https://localhost:8080/"
        },
        "outputId": "2a4c10fb-3779-44ca-9283-d8bcf6277049"
      },
      "source": [
        "# Total de gols marcados útimos 3 jogos Mandante\n",
        "df_entradas['nGF_U3_Mandante'] = (df_entradas.groupby(['Ano','Mandante'])['MandanteGols'].shift(1) + \n",
        "df_entradas.groupby(['Ano','Mandante'])['MandanteGols'].shift(2) +\n",
        "df_entradas.groupby(['Ano','Mandante'])['MandanteGols'].shift(3)\n",
        ") \n",
        "\n",
        "# Total dos gols marcados útimos 3 jogos Visitante\n",
        "df_entradas['nGF_U3_Visitante'] = (df_entradas.groupby(['Ano','Visitante'])['VisitanteGols'].shift(1) + \n",
        "df_entradas.groupby(['Ano','Visitante'])['VisitanteGols'].shift(2) +\n",
        "df_entradas.groupby(['Ano','Visitante'])['VisitanteGols'].shift(3)\n",
        ") \n",
        "\n",
        "# Total de  gols sofridos ultimos 3 jogos Mandante\n",
        "df_entradas['nGS_U3_Mandante'] = (df_entradas.groupby(['Ano','Mandante'])['VisitanteGols'].shift(1) + \n",
        "df_entradas.groupby(['Ano','Mandante'])['VisitanteGols'].shift(2) +\n",
        "df_entradas.groupby(['Ano','Mandante'])['VisitanteGols'].shift(3)\n",
        ") \n",
        "\n",
        "# Total de  gols sofridos ultimos 3 jogos Visitante\n",
        "df_entradas['nGS_U3_Visitante'] = (df_entradas.groupby(['Ano','Visitante'])['MandanteGols'].shift(1) + \n",
        "df_entradas.groupby(['Ano','Visitante'])['MandanteGols'].shift(2) +\n",
        "df_entradas.groupby(['Ano','Visitante'])['MandanteGols'].shift(3) \n",
        ") \n",
        "\n",
        "\n",
        "df_entradas.info()"
      ],
      "execution_count": null,
      "outputs": [
        {
          "output_type": "stream",
          "text": [
            "<class 'pandas.core.frame.DataFrame'>\n",
            "Int64Index: 7939 entries, 0 to 7938\n",
            "Data columns (total 16 columns):\n",
            " #   Column            Non-Null Count  Dtype         \n",
            "---  ------            --------------  -----         \n",
            " 0   Data              7939 non-null   datetime64[ns]\n",
            " 1   Mandante          7939 non-null   object        \n",
            " 2   Visitante         7939 non-null   object        \n",
            " 3   MandanteGols      7939 non-null   int64         \n",
            " 4   VisitanteGols     7939 non-null   int64         \n",
            " 5   Vencedor          7939 non-null   object        \n",
            " 6   Rodada            7939 non-null   object        \n",
            " 7   Ano               7939 non-null   int64         \n",
            " 8   avgGFMandante     7506 non-null   float64       \n",
            " 9   avgGFVisitante    7501 non-null   float64       \n",
            " 10  avgGSMandante     7506 non-null   float64       \n",
            " 11  avgGSVisitante    7501 non-null   float64       \n",
            " 12  nGF_U3_Mandante   6645 non-null   float64       \n",
            " 13  nGF_U3_Visitante  6640 non-null   float64       \n",
            " 14  nGS_U3_Mandante   6645 non-null   float64       \n",
            " 15  nGS_U3_Visitante  6640 non-null   float64       \n",
            "dtypes: datetime64[ns](1), float64(8), int64(3), object(4)\n",
            "memory usage: 1.0+ MB\n"
          ],
          "name": "stdout"
        }
      ]
    },
    {
      "cell_type": "markdown",
      "metadata": {
        "id": "1ghfJvS-dETt"
      },
      "source": [
        "#### Eliminando valores nulos "
      ]
    },
    {
      "cell_type": "code",
      "metadata": {
        "id": "adM4kORGUNv7",
        "colab": {
          "base_uri": "https://localhost:8080/"
        },
        "outputId": "ae10bbda-9e31-4bd0-b9fa-2f3f0efdc49f"
      },
      "source": [
        "df_entradas = df_entradas.loc[df_entradas['nGF_U3_Mandante'].notnull()]\n",
        "df_entradas = df_entradas.loc[df_entradas['nGF_U3_Visitante'].notnull()]\n",
        "\n",
        "\n",
        "df_entradas.info()"
      ],
      "execution_count": null,
      "outputs": [
        {
          "output_type": "stream",
          "text": [
            "<class 'pandas.core.frame.DataFrame'>\n",
            "Int64Index: 6557 entries, 59 to 7938\n",
            "Data columns (total 16 columns):\n",
            " #   Column            Non-Null Count  Dtype         \n",
            "---  ------            --------------  -----         \n",
            " 0   Data              6557 non-null   datetime64[ns]\n",
            " 1   Mandante          6557 non-null   object        \n",
            " 2   Visitante         6557 non-null   object        \n",
            " 3   MandanteGols      6557 non-null   int64         \n",
            " 4   VisitanteGols     6557 non-null   int64         \n",
            " 5   Vencedor          6557 non-null   object        \n",
            " 6   Rodada            6557 non-null   object        \n",
            " 7   Ano               6557 non-null   int64         \n",
            " 8   avgGFMandante     6557 non-null   float64       \n",
            " 9   avgGFVisitante    6557 non-null   float64       \n",
            " 10  avgGSMandante     6557 non-null   float64       \n",
            " 11  avgGSVisitante    6557 non-null   float64       \n",
            " 12  nGF_U3_Mandante   6557 non-null   float64       \n",
            " 13  nGF_U3_Visitante  6557 non-null   float64       \n",
            " 14  nGS_U3_Mandante   6557 non-null   float64       \n",
            " 15  nGS_U3_Visitante  6557 non-null   float64       \n",
            "dtypes: datetime64[ns](1), float64(8), int64(3), object(4)\n",
            "memory usage: 870.9+ KB\n"
          ],
          "name": "stdout"
        }
      ]
    },
    {
      "cell_type": "markdown",
      "metadata": {
        "id": "OHKe4HCp3tff"
      },
      "source": [
        "#### Criando a variavel total de gols, e redividindo-a em intervalos.(obtendo saída)\n",
        "> Para Total de gols menor ou igual a 3, {x = 0}\n",
        "\n",
        "> Para Total de gols maior que 3, {x = 1}"
      ]
    },
    {
      "cell_type": "code",
      "metadata": {
        "id": "a_HfkJCWIHAK",
        "colab": {
          "base_uri": "https://localhost:8080/",
          "height": 281
        },
        "outputId": "65969c76-ad1e-4d3b-eb44-71ed64145f1c"
      },
      "source": [
        "df_entradas['total_gols'] = df_entradas['MandanteGols'] + df_entradas['VisitanteGols']\n",
        "df_entradas.total_gols.plot(kind='hist')"
      ],
      "execution_count": null,
      "outputs": [
        {
          "output_type": "execute_result",
          "data": {
            "text/plain": [
              "<matplotlib.axes._subplots.AxesSubplot at 0x7fd5a40139d0>"
            ]
          },
          "metadata": {
            "tags": []
          },
          "execution_count": 30
        },
        {
          "output_type": "display_data",
          "data": {
            "image/png": "[encoded data removed]",
            "text/plain": [
              "<Figure size 432x288 with 1 Axes>"
            ]
          },
          "metadata": {
            "tags": [],
            "needs_background": "light"
          }
        }
      ]
    },
    {
      "cell_type": "code",
      "metadata": {
        "id": "s5aPtaqOIj7R",
        "colab": {
          "base_uri": "https://localhost:8080/",
          "height": 624
        },
        "outputId": "45a6edd1-c17f-4576-9fe6-b01f1afc4517"
      },
      "source": [
        "#matriz de correlação plotada\n",
        "plt.figure(figsize=(12,9))\n",
        "matriz_correlacao=df_entradas.corr()\n",
        "sns.heatmap(matriz_correlacao, annot=True)\n",
        "plt.show()"
      ],
      "execution_count": null,
      "outputs": [
        {
          "output_type": "display_data",
          "data": {
            "image/png": "[encoded data removed]",
            "text/plain": [
              "<Figure size 864x648 with 2 Axes>"
            ]
          },
          "metadata": {
            "tags": [],
            "needs_background": "light"
          }
        }
      ]
    },
    {
      "cell_type": "code",
      "metadata": {
        "id": "PWv_G0qaE_AR",
        "colab": {
          "base_uri": "https://localhost:8080/"
        },
        "outputId": "8ce837ed-203f-4d9a-c189-1197cf51ea2f"
      },
      "source": [
        "# dividindo  em intervalos \n",
        "df_entradas['faixa_degols'] = df_entradas['total_gols'].apply(lambda x: 0 if x<=3 else 1)\n",
        "df_entradas['faixa_degols'].value_counts()\n",
        "\n",
        "                                                          "
      ],
      "execution_count": null,
      "outputs": [
        {
          "output_type": "execute_result",
          "data": {
            "text/plain": [
              "0    4738\n",
              "1    1819\n",
              "Name: faixa_degols, dtype: int64"
            ]
          },
          "metadata": {
            "tags": []
          },
          "execution_count": 32
        }
      ]
    },
    {
      "cell_type": "code",
      "metadata": {
        "colab": {
          "base_uri": "https://localhost:8080/",
          "height": 716
        },
        "id": "NLeLR80xW3S4",
        "outputId": "0c28548d-3ce8-4c05-9f0b-7e58b1257185"
      },
      "source": [
        "df_entradas.faixa_degols.plot(kind='hist',figsize =(9,12))\n"
      ],
      "execution_count": null,
      "outputs": [
        {
          "output_type": "execute_result",
          "data": {
            "text/plain": [
              "<matplotlib.axes._subplots.AxesSubplot at 0x7fd59b68cc90>"
            ]
          },
          "metadata": {
            "tags": []
          },
          "execution_count": 33
        },
        {
          "output_type": "display_data",
          "data": {
            "image/png": "[encoded data removed]",
            "text/plain": [
              "<Figure size 648x864 with 1 Axes>"
            ]
          },
          "metadata": {
            "tags": [],
            "needs_background": "light"
          }
        }
      ]
    },
    {
      "cell_type": "code",
      "metadata": {
        "id": "gWnv3XFMZpAy",
        "colab": {
          "base_uri": "https://localhost:8080/",
          "height": 312
        },
        "outputId": "618a88e6-8974-4f7b-d21e-577e31c68521"
      },
      "source": [
        "df_entradas.avgGFMandante.plot(kind='hist')\n",
        "df_entradas.avgGFVisitante.plot(kind='hist')\n",
        "plt.xlabel('Médias de gols feitos por times Mandantes e Visitantes')\n",
        "plt.title('Distribuição de Frequências Normal')"
      ],
      "execution_count": null,
      "outputs": [
        {
          "output_type": "execute_result",
          "data": {
            "text/plain": [
              "Text(0.5, 1.0, 'Distribuição de Frequências Normal')"
            ]
          },
          "metadata": {
            "tags": []
          },
          "execution_count": 34
        },
        {
          "output_type": "display_data",
          "data": {
            "image/png": "[encoded data removed]",
            "text/plain": [
              "<Figure size 432x288 with 1 Axes>"
            ]
          },
          "metadata": {
            "tags": [],
            "needs_background": "light"
          }
        }
      ]
    },
    {
      "cell_type": "code",
      "metadata": {
        "id": "DudAftf48Olj",
        "colab": {
          "base_uri": "https://localhost:8080/",
          "height": 307
        },
        "outputId": "dfb8aebf-3326-46e5-f6bc-d7e8038edaa9"
      },
      "source": [
        "df_entradas.describe()"
      ],
      "execution_count": null,
      "outputs": [
        {
          "output_type": "execute_result",
          "data": {
            "text/html": [
              "<div>\n",
              "<style scoped>\n",
              "    .dataframe tbody tr th:only-of-type {\n",
              "        vertical-align: middle;\n",
              "    }\n",
              "\n",
              "    .dataframe tbody tr th {\n",
              "        vertical-align: top;\n",
              "    }\n",
              "\n",
              "    .dataframe thead th {\n",
              "        text-align: right;\n",
              "    }\n",
              "</style>\n",
              "<table border=\"1\" class=\"dataframe\">\n",
              "  <thead>\n",
              "    <tr style=\"text-align: right;\">\n",
              "      <th></th>\n",
              "      <th>MandanteGols</th>\n",
              "      <th>VisitanteGols</th>\n",
              "      <th>Ano</th>\n",
              "      <th>avgGFMandante</th>\n",
              "      <th>avgGFVisitante</th>\n",
              "      <th>avgGSMandante</th>\n",
              "      <th>avgGSVisitante</th>\n",
              "      <th>nGF_U3_Mandante</th>\n",
              "      <th>nGF_U3_Visitante</th>\n",
              "      <th>nGS_U3_Mandante</th>\n",
              "      <th>nGS_U3_Visitante</th>\n",
              "      <th>total_gols</th>\n",
              "      <th>faixa_degols</th>\n",
              "    </tr>\n",
              "  </thead>\n",
              "  <tbody>\n",
              "    <tr>\n",
              "      <th>count</th>\n",
              "      <td>6557.000000</td>\n",
              "      <td>6557.000000</td>\n",
              "      <td>6557.000000</td>\n",
              "      <td>6557.000000</td>\n",
              "      <td>6557.000000</td>\n",
              "      <td>6557.000000</td>\n",
              "      <td>6557.000000</td>\n",
              "      <td>6557.000000</td>\n",
              "      <td>6557.000000</td>\n",
              "      <td>6557.000000</td>\n",
              "      <td>6557.000000</td>\n",
              "      <td>6557.000000</td>\n",
              "      <td>6557.000000</td>\n",
              "    </tr>\n",
              "    <tr>\n",
              "      <th>mean</th>\n",
              "      <td>1.605460</td>\n",
              "      <td>1.056581</td>\n",
              "      <td>2009.377307</td>\n",
              "      <td>1.576581</td>\n",
              "      <td>1.043089</td>\n",
              "      <td>1.041081</td>\n",
              "      <td>1.575870</td>\n",
              "      <td>4.770779</td>\n",
              "      <td>3.152356</td>\n",
              "      <td>3.143816</td>\n",
              "      <td>4.763001</td>\n",
              "      <td>2.662041</td>\n",
              "      <td>0.277413</td>\n",
              "    </tr>\n",
              "    <tr>\n",
              "      <th>std</th>\n",
              "      <td>1.250523</td>\n",
              "      <td>1.039343</td>\n",
              "      <td>5.679037</td>\n",
              "      <td>0.494775</td>\n",
              "      <td>0.413951</td>\n",
              "      <td>0.394070</td>\n",
              "      <td>0.483027</td>\n",
              "      <td>2.267380</td>\n",
              "      <td>1.908316</td>\n",
              "      <td>1.869825</td>\n",
              "      <td>2.221343</td>\n",
              "      <td>1.664101</td>\n",
              "      <td>0.447756</td>\n",
              "    </tr>\n",
              "    <tr>\n",
              "      <th>min</th>\n",
              "      <td>0.000000</td>\n",
              "      <td>0.000000</td>\n",
              "      <td>2000.000000</td>\n",
              "      <td>0.000000</td>\n",
              "      <td>0.000000</td>\n",
              "      <td>0.000000</td>\n",
              "      <td>0.000000</td>\n",
              "      <td>0.000000</td>\n",
              "      <td>0.000000</td>\n",
              "      <td>0.000000</td>\n",
              "      <td>0.000000</td>\n",
              "      <td>0.000000</td>\n",
              "      <td>0.000000</td>\n",
              "    </tr>\n",
              "    <tr>\n",
              "      <th>25%</th>\n",
              "      <td>1.000000</td>\n",
              "      <td>0.000000</td>\n",
              "      <td>2004.000000</td>\n",
              "      <td>1.250000</td>\n",
              "      <td>0.750000</td>\n",
              "      <td>0.764706</td>\n",
              "      <td>1.250000</td>\n",
              "      <td>3.000000</td>\n",
              "      <td>2.000000</td>\n",
              "      <td>2.000000</td>\n",
              "      <td>3.000000</td>\n",
              "      <td>1.000000</td>\n",
              "      <td>0.000000</td>\n",
              "    </tr>\n",
              "    <tr>\n",
              "      <th>50%</th>\n",
              "      <td>1.000000</td>\n",
              "      <td>1.000000</td>\n",
              "      <td>2009.000000</td>\n",
              "      <td>1.555556</td>\n",
              "      <td>1.000000</td>\n",
              "      <td>1.000000</td>\n",
              "      <td>1.571429</td>\n",
              "      <td>5.000000</td>\n",
              "      <td>3.000000</td>\n",
              "      <td>3.000000</td>\n",
              "      <td>5.000000</td>\n",
              "      <td>2.000000</td>\n",
              "      <td>0.000000</td>\n",
              "    </tr>\n",
              "    <tr>\n",
              "      <th>75%</th>\n",
              "      <td>2.000000</td>\n",
              "      <td>2.000000</td>\n",
              "      <td>2014.000000</td>\n",
              "      <td>1.875000</td>\n",
              "      <td>1.285714</td>\n",
              "      <td>1.285714</td>\n",
              "      <td>1.857143</td>\n",
              "      <td>6.000000</td>\n",
              "      <td>4.000000</td>\n",
              "      <td>4.000000</td>\n",
              "      <td>6.000000</td>\n",
              "      <td>4.000000</td>\n",
              "      <td>1.000000</td>\n",
              "    </tr>\n",
              "    <tr>\n",
              "      <th>max</th>\n",
              "      <td>7.000000</td>\n",
              "      <td>7.000000</td>\n",
              "      <td>2019.000000</td>\n",
              "      <td>4.666667</td>\n",
              "      <td>3.666667</td>\n",
              "      <td>2.750000</td>\n",
              "      <td>4.333333</td>\n",
              "      <td>15.000000</td>\n",
              "      <td>15.000000</td>\n",
              "      <td>12.000000</td>\n",
              "      <td>14.000000</td>\n",
              "      <td>11.000000</td>\n",
              "      <td>1.000000</td>\n",
              "    </tr>\n",
              "  </tbody>\n",
              "</table>\n",
              "</div>"
            ],
            "text/plain": [
              "       MandanteGols  VisitanteGols  ...   total_gols  faixa_degols\n",
              "count   6557.000000    6557.000000  ...  6557.000000   6557.000000\n",
              "mean       1.605460       1.056581  ...     2.662041      0.277413\n",
              "std        1.250523       1.039343  ...     1.664101      0.447756\n",
              "min        0.000000       0.000000  ...     0.000000      0.000000\n",
              "25%        1.000000       0.000000  ...     1.000000      0.000000\n",
              "50%        1.000000       1.000000  ...     2.000000      0.000000\n",
              "75%        2.000000       2.000000  ...     4.000000      1.000000\n",
              "max        7.000000       7.000000  ...    11.000000      1.000000\n",
              "\n",
              "[8 rows x 13 columns]"
            ]
          },
          "metadata": {
            "tags": []
          },
          "execution_count": 35
        }
      ]
    },
    {
      "cell_type": "code",
      "metadata": {
        "colab": {
          "base_uri": "https://localhost:8080/",
          "height": 282
        },
        "id": "QkSvCr6jC06V",
        "outputId": "ccd7811a-340e-453c-a90c-af774611b439"
      },
      "source": [
        "df_entradas.boxplot(['total_gols'])"
      ],
      "execution_count": null,
      "outputs": [
        {
          "output_type": "execute_result",
          "data": {
            "text/plain": [
              "<matplotlib.axes._subplots.AxesSubplot at 0x7fd5a676ea50>"
            ]
          },
          "metadata": {
            "tags": []
          },
          "execution_count": 36
        },
        {
          "output_type": "display_data",
          "data": {
            "image/png": "[encoded data removed]",
            "text/plain": [
              "<Figure size 432x288 with 1 Axes>"
            ]
          },
          "metadata": {
            "tags": [],
            "needs_background": "light"
          }
        }
      ]
    },
    {
      "cell_type": "markdown",
      "metadata": {
        "id": "ddoJ3FYO42yA"
      },
      "source": [
        "#### Dividindo os dados para entrada 'X' e saída 'y'"
      ]
    },
    {
      "cell_type": "code",
      "metadata": {
        "id": "a8EjVM5QF-dk"
      },
      "source": [
        "X = df_entradas[['avgGFMandante','avgGFVisitante','avgGSMandante','avgGSVisitante','nGF_U3_Mandante','nGS_U3_Mandante','nGF_U3_Visitante','nGS_U3_Visitante','Ano'\n",
        "                  ]]\n",
        "y = df_entradas['faixa_degols']"
      ],
      "execution_count": null,
      "outputs": []
    },
    {
      "cell_type": "markdown",
      "metadata": {
        "id": "j_0TU6gCq9s8"
      },
      "source": [
        ""
      ]
    },
    {
      "cell_type": "markdown",
      "metadata": {
        "id": "sap6qWqNPl3a"
      },
      "source": [
        "#### Tratando desbalanceamento "
      ]
    },
    {
      "cell_type": "markdown",
      "metadata": {
        "id": "wkRKNiQ9iIkX"
      },
      "source": [
        "Undersampling"
      ]
    },
    {
      "cell_type": "code",
      "metadata": {
        "id": "8KbdJUF8HnWt",
        "colab": {
          "base_uri": "https://localhost:8080/"
        },
        "outputId": "1672cef1-bcae-48fb-8451-e4abe91be09a"
      },
      "source": [
        "from imblearn.under_sampling import NearMiss\n",
        "\n",
        "nr = NearMiss()\n",
        "X, y = nr.fit_sample(X, y)\n",
        "np.bincount(y)"
      ],
      "execution_count": null,
      "outputs": [
        {
          "output_type": "stream",
          "text": [
            "/usr/local/lib/python3.7/dist-packages/sklearn/externals/six.py:31: FutureWarning: The module is deprecated in version 0.21 and will be removed in version 0.23 since we've dropped support for Python 2.7. Please rely on the official version of six (https://pypi.org/project/six/).\n",
            "  \"(https://pypi.org/project/six/).\", FutureWarning)\n",
            "/usr/local/lib/python3.7/dist-packages/sklearn/utils/deprecation.py:144: FutureWarning: The sklearn.neighbors.base module is  deprecated in version 0.22 and will be removed in version 0.24. The corresponding classes / functions should instead be imported from sklearn.neighbors. Anything that cannot be imported from sklearn.neighbors is now part of the private API.\n",
            "  warnings.warn(message, FutureWarning)\n",
            "/usr/local/lib/python3.7/dist-packages/sklearn/utils/deprecation.py:87: FutureWarning: Function safe_indexing is deprecated; safe_indexing is deprecated in version 0.22 and will be removed in version 0.24.\n",
            "  warnings.warn(msg, category=FutureWarning)\n",
            "/usr/local/lib/python3.7/dist-packages/sklearn/utils/deprecation.py:87: FutureWarning: Function safe_indexing is deprecated; safe_indexing is deprecated in version 0.22 and will be removed in version 0.24.\n",
            "  warnings.warn(msg, category=FutureWarning)\n",
            "/usr/local/lib/python3.7/dist-packages/sklearn/utils/deprecation.py:87: FutureWarning: Function safe_indexing is deprecated; safe_indexing is deprecated in version 0.22 and will be removed in version 0.24.\n",
            "  warnings.warn(msg, category=FutureWarning)\n"
          ],
          "name": "stderr"
        },
        {
          "output_type": "execute_result",
          "data": {
            "text/plain": [
              "array([1819, 1819])"
            ]
          },
          "metadata": {
            "tags": []
          },
          "execution_count": 38
        }
      ]
    },
    {
      "cell_type": "markdown",
      "metadata": {
        "id": "HL0YnnXyiLQu"
      },
      "source": [
        "Oversampling"
      ]
    },
    {
      "cell_type": "code",
      "metadata": {
        "id": "kJNdGvfmiM9w",
        "colab": {
          "base_uri": "https://localhost:8080/"
        },
        "outputId": "45d2fb45-6530-4ee8-cc7a-4cc0faeb78a5"
      },
      "source": [
        "from imblearn.over_sampling import SMOTE\n",
        "oversample = SMOTE()\n",
        "X, y = oversample.fit_resample(X, y)\n",
        "np.bincount(y)"
      ],
      "execution_count": null,
      "outputs": [
        {
          "output_type": "execute_result",
          "data": {
            "text/plain": [
              "array([1819, 1819])"
            ]
          },
          "metadata": {
            "tags": []
          },
          "execution_count": 39
        }
      ]
    },
    {
      "cell_type": "markdown",
      "metadata": {
        "id": "9xIiNfgg5Epe"
      },
      "source": [
        "#### Efetuando normalização dos dados\n",
        "é possível utilizar uma das técnicas de normalização "
      ]
    },
    {
      "cell_type": "markdown",
      "metadata": {
        "id": "9ph1PiCuRCLj"
      },
      "source": [
        "Min-Max"
      ]
    },
    {
      "cell_type": "code",
      "metadata": {
        "id": "ii3Ml1r_GwNv"
      },
      "source": [
        "\n",
        "#importando o preprocessamento com o MinMax\n",
        "from sklearn.preprocessing import MinMaxScaler\n",
        "sc_X = MinMaxScaler()\n",
        "X_escaler = sc_X.fit_transform(X)\n"
      ],
      "execution_count": null,
      "outputs": []
    },
    {
      "cell_type": "markdown",
      "metadata": {
        "id": "wDzOZ81GRHm5"
      },
      "source": [
        "Scale"
      ]
    },
    {
      "cell_type": "code",
      "metadata": {
        "id": "v3JGXOgBPSZB"
      },
      "source": [
        "from sklearn.preprocessing import scale\n",
        "X_escaler = scale(X)"
      ],
      "execution_count": null,
      "outputs": []
    },
    {
      "cell_type": "markdown",
      "metadata": {
        "id": "yCVOItVt5NMm"
      },
      "source": [
        "#### Dividindo dados para treino e teste (Validação cruzada)"
      ]
    },
    {
      "cell_type": "code",
      "metadata": {
        "id": "LDOT-rehGyi1"
      },
      "source": [
        "\n",
        "from sklearn.model_selection import train_test_split\n",
        "\n",
        "X_train, X_test, y_train, y_test = train_test_split(X_escaler, y, test_size=0.3, random_state=0)\n",
        "\n"
      ],
      "execution_count": null,
      "outputs": []
    },
    {
      "cell_type": "markdown",
      "metadata": {
        "id": "52Zfpnop5ZRI"
      },
      "source": [
        "#### Resultados Para Regressão Logistica "
      ]
    },
    {
      "cell_type": "code",
      "metadata": {
        "id": "YodGMqa_G1NR",
        "colab": {
          "base_uri": "https://localhost:8080/"
        },
        "outputId": "de483f77-c0a1-44a9-c020-f2ec8765687f"
      },
      "source": [
        "from sklearn.linear_model import LogisticRegression\n",
        "classifier = LogisticRegression(random_state = 0)\n",
        "classifier.fit(X_train, y_train)"
      ],
      "execution_count": null,
      "outputs": [
        {
          "output_type": "execute_result",
          "data": {
            "text/plain": [
              "LogisticRegression(C=1.0, class_weight=None, dual=False, fit_intercept=True,\n",
              "                   intercept_scaling=1, l1_ratio=None, max_iter=100,\n",
              "                   multi_class='auto', n_jobs=None, penalty='l2',\n",
              "                   random_state=0, solver='lbfgs', tol=0.0001, verbose=0,\n",
              "                   warm_start=False)"
            ]
          },
          "metadata": {
            "tags": []
          },
          "execution_count": 43
        }
      ]
    },
    {
      "cell_type": "code",
      "metadata": {
        "id": "xgRNvLs4HeYF"
      },
      "source": [
        "y_pred = classifier.predict(X_test)"
      ],
      "execution_count": null,
      "outputs": []
    },
    {
      "cell_type": "code",
      "metadata": {
        "id": "310gj1jZHfQR",
        "colab": {
          "base_uri": "https://localhost:8080/"
        },
        "outputId": "d1a9f0e5-8855-4d25-a774-cb60c2be3d2f"
      },
      "source": [
        "from sklearn.metrics import accuracy_score\n",
        "from sklearn.model_selection import cross_val_score\n",
        "print(\"Acurácia para a classificação :  \",accuracy_score(y_pred,y_test))\n",
        "print(cross_val_score(classifier, X_test, y_test,cv=5))"
      ],
      "execution_count": null,
      "outputs": [
        {
          "output_type": "stream",
          "text": [
            "Acurácia para a classificação :   0.5714285714285714\n",
            "[0.59360731 0.56164384 0.60550459 0.58715596 0.56880734]\n"
          ],
          "name": "stdout"
        }
      ]
    },
    {
      "cell_type": "markdown",
      "metadata": {
        "id": "gjIwj5-75fv-"
      },
      "source": [
        "#### Resultados para KNN"
      ]
    },
    {
      "cell_type": "code",
      "metadata": {
        "id": "jY0fHaFiIkaC"
      },
      "source": [
        "from sklearn.neighbors import KNeighborsClassifier\n",
        "clf_KNN = KNeighborsClassifier(n_neighbors=3)\n"
      ],
      "execution_count": null,
      "outputs": []
    },
    {
      "cell_type": "code",
      "metadata": {
        "id": "QsXGe04sIn0F",
        "colab": {
          "base_uri": "https://localhost:8080/"
        },
        "outputId": "96ff46ce-6b70-4b12-9e50-4b40bd5e5c64"
      },
      "source": [
        "clf_KNN.fit(X_train, y_train)"
      ],
      "execution_count": null,
      "outputs": [
        {
          "output_type": "execute_result",
          "data": {
            "text/plain": [
              "KNeighborsClassifier(algorithm='auto', leaf_size=30, metric='minkowski',\n",
              "                     metric_params=None, n_jobs=None, n_neighbors=3, p=2,\n",
              "                     weights='uniform')"
            ]
          },
          "metadata": {
            "tags": []
          },
          "execution_count": 47
        }
      ]
    },
    {
      "cell_type": "code",
      "metadata": {
        "id": "pvDLXOshIrl5"
      },
      "source": [
        "y_pred_KNN = clf_KNN.predict(X_test)"
      ],
      "execution_count": null,
      "outputs": []
    },
    {
      "cell_type": "code",
      "metadata": {
        "id": "RNG5AnAqIxIW",
        "colab": {
          "base_uri": "https://localhost:8080/"
        },
        "outputId": "710057e9-cb5e-4aa9-c4f3-2141c276c948"
      },
      "source": [
        "from sklearn.metrics import accuracy_score\n",
        "print(\"Acurácia para a classificação utilizando o KNN:  \",accuracy_score(y_pred_KNN,y_test))\n",
        "print(cross_val_score(clf_KNN, X_test, y_test,cv=5))"
      ],
      "execution_count": null,
      "outputs": [
        {
          "output_type": "stream",
          "text": [
            "Acurácia para a classificação utilizando o KNN:   0.5741758241758241\n",
            "[0.55251142 0.58447489 0.57798165 0.60091743 0.55045872]\n"
          ],
          "name": "stdout"
        }
      ]
    },
    {
      "cell_type": "code",
      "metadata": {
        "colab": {
          "base_uri": "https://localhost:8080/"
        },
        "id": "EFluf-dQVfTw",
        "outputId": "d01de03d-0fce-455f-e667-49a16a2b3acf"
      },
      "source": [
        "print(\"O valor de f1-score para a árvore de decisão é:\\n \",classification_report(y_test,y_pred_KNN))"
      ],
      "execution_count": null,
      "outputs": [
        {
          "output_type": "stream",
          "text": [
            "O valor de f1-score para a árvore de decisão é:\n",
            "                precision    recall  f1-score   support\n",
            "\n",
            "           0       0.57      0.70      0.63       558\n",
            "           1       0.59      0.44      0.50       534\n",
            "\n",
            "    accuracy                           0.57      1092\n",
            "   macro avg       0.58      0.57      0.57      1092\n",
            "weighted avg       0.58      0.57      0.57      1092\n",
            "\n"
          ],
          "name": "stdout"
        }
      ]
    },
    {
      "cell_type": "code",
      "metadata": {
        "colab": {
          "base_uri": "https://localhost:8080/",
          "height": 574
        },
        "id": "WMUau8isWAzQ",
        "outputId": "bd3c0973-7637-4b29-e942-37e9f095ff42"
      },
      "source": [
        "plt.rcParams[\"figure.figsize\"]=(10, 10)\n",
        "plot_confusion_matrix(clf_KNN, X_test, y_test)\n",
        "plt.show()"
      ],
      "execution_count": null,
      "outputs": [
        {
          "output_type": "display_data",
          "data": {
            "image/png": "[encoded data removed]",
            "text/plain": [
              "<Figure size 720x720 with 2 Axes>"
            ]
          },
          "metadata": {
            "tags": [],
            "needs_background": "light"
          }
        }
      ]
    },
    {
      "cell_type": "markdown",
      "metadata": {
        "id": "UAipe2DQ5lun"
      },
      "source": [
        "#### Resultados para Arvore de decisão "
      ]
    },
    {
      "cell_type": "code",
      "metadata": {
        "id": "ygpg5wMLJaZs"
      },
      "source": [
        "from sklearn.tree import DecisionTreeClassifier\n",
        "from sklearn.tree import export_graphviz\n",
        "import graphviz"
      ],
      "execution_count": null,
      "outputs": []
    },
    {
      "cell_type": "code",
      "metadata": {
        "id": "0Sy_nrRGJcwy"
      },
      "source": [
        "# Cria o objeto de classificação através do \n",
        "clf_arvore = DecisionTreeClassifier(criterion='entropy',max_depth=4 , max_features='auto')\n",
        "\n",
        "# Realiza o treinamento do classificador\n",
        "clf_arvore = clf_arvore.fit(X_train,y_train)\n",
        "\n",
        "#Realiza a previsão de classificaçao \n",
        "y_pred_arvore = clf_arvore.predict(X_test)\n",
        "\n"
      ],
      "execution_count": null,
      "outputs": []
    },
    {
      "cell_type": "code",
      "metadata": {
        "id": "xuUr20NDJdvb",
        "colab": {
          "base_uri": "https://localhost:8080/"
        },
        "outputId": "5636d6fd-55b2-4c11-e4df-c53a1cd61dc1"
      },
      "source": [
        "from sklearn.metrics import classification_report\n",
        "print(\"O valor de f1-score para a árvore de decisão é:\\n \",classification_report(y_test,y_pred_arvore))\n",
        "print(cross_val_score(clf_arvore, X_test, y_test,cv=5))"
      ],
      "execution_count": null,
      "outputs": [
        {
          "output_type": "stream",
          "text": [
            "O valor de f1-score para a árvore de decisão é:\n",
            "                precision    recall  f1-score   support\n",
            "\n",
            "           0       0.60      0.91      0.73       558\n",
            "           1       0.80      0.37      0.51       534\n",
            "\n",
            "    accuracy                           0.65      1092\n",
            "   macro avg       0.70      0.64      0.62      1092\n",
            "weighted avg       0.70      0.65      0.62      1092\n",
            "\n",
            "[0.61187215 0.64383562 0.61926606 0.55504587 0.64678899]\n"
          ],
          "name": "stdout"
        }
      ]
    },
    {
      "cell_type": "code",
      "metadata": {
        "id": "YrpfthZfzhRS",
        "colab": {
          "base_uri": "https://localhost:8080/",
          "height": 676
        },
        "outputId": "b7e7ec17-4915-4b20-a423-c3dc126b0c17"
      },
      "source": [
        "arquivo = 'tree.dot'\n",
        "features = ['avgGFMandante','avgGFVisitante','avgGSMandante','avgGSVisitante','nGF_U3_Mandante','nGS_U3_Mandante','nGF_U3_Visitante','nGS_U3_Visitante','Ano']\n",
        "export_graphviz(clf_arvore, out_file = arquivo,  feature_names=features)\n",
        "with open (arquivo) as f:\n",
        "  dot_graph = f.read()\n",
        "graphviz.Source(dot_graph)"
      ],
      "execution_count": null,
      "outputs": [
        {
          "output_type": "execute_result",
          "data": {
            "text/plain": [
              "<graphviz.files.Source at 0x7fd596ec49d0>"
            ],
            "image/svg+xml": "<?xml version=\"1.0\" encoding=\"UTF-8\" standalone=\"no\"?>\n<!DOCTYPE svg PUBLIC \"-//W3C//DTD SVG 1.1//EN\"\n \"http://www.w3.org/Graphics/SVG/1.1/DTD/svg11.dtd\">\n<!-- Generated by graphviz version 2.40.1 (20161225.0304)\n -->\n<!-- Title: Tree Pages: 1 -->\n<svg width=\"1113pt\" height=\"477pt\"\n viewBox=\"0.00 0.00 1112.50 477.00\" xmlns=\"http://www.w3.org/2000/svg\" xmlns:xlink=\"http://www.w3.org/1999/xlink\">\n<g id=\"graph0\" class=\"graph\" transform=\"scale(1 1) rotate(0) translate(4 473)\">\n<title>Tree</title>\n<polygon fill=\"#ffffff\" stroke=\"transparent\" points=\"-4,4 -4,-473 1108.5,-473 1108.5,4 -4,4\"/>\n<!-- 0 -->\n<g id=\"node1\" class=\"node\">\n<title>0</title>\n<polygon fill=\"none\" stroke=\"#000000\" points=\"883,-469 700,-469 700,-401 883,-401 883,-469\"/>\n<text text-anchor=\"middle\" x=\"791.5\" y=\"-453.8\" font-family=\"Times,serif\" font-size=\"14.00\" fill=\"#000000\">nGF_U3_Visitante &lt;= 1.445</text>\n<text text-anchor=\"middle\" x=\"791.5\" y=\"-438.8\" font-family=\"Times,serif\" font-size=\"14.00\" fill=\"#000000\">entropy = 1.0</text>\n<text text-anchor=\"middle\" x=\"791.5\" y=\"-423.8\" font-family=\"Times,serif\" font-size=\"14.00\" fill=\"#000000\">samples = 2546</text>\n<text text-anchor=\"middle\" x=\"791.5\" y=\"-408.8\" font-family=\"Times,serif\" font-size=\"14.00\" fill=\"#000000\">value = [1261, 1285]</text>\n</g>\n<!-- 1 -->\n<g id=\"node2\" class=\"node\">\n<title>1</title>\n<polygon fill=\"none\" stroke=\"#000000\" points=\"732,-365 549,-365 549,-297 732,-297 732,-365\"/>\n<text text-anchor=\"middle\" x=\"640.5\" y=\"-349.8\" font-family=\"Times,serif\" font-size=\"14.00\" fill=\"#000000\">nGS_U3_Mandante &lt;= 1.47</text>\n<text text-anchor=\"middle\" x=\"640.5\" y=\"-334.8\" font-family=\"Times,serif\" font-size=\"14.00\" fill=\"#000000\">entropy = 0.999</text>\n<text text-anchor=\"middle\" x=\"640.5\" y=\"-319.8\" font-family=\"Times,serif\" font-size=\"14.00\" fill=\"#000000\">samples = 2338</text>\n<text text-anchor=\"middle\" x=\"640.5\" y=\"-304.8\" font-family=\"Times,serif\" font-size=\"14.00\" fill=\"#000000\">value = [1217, 1121]</text>\n</g>\n<!-- 0&#45;&gt;1 -->\n<g id=\"edge1\" class=\"edge\">\n<title>0&#45;&gt;1</title>\n<path fill=\"none\" stroke=\"#000000\" d=\"M742.057,-400.9465C728.1083,-391.3395 712.8071,-380.8009 698.4097,-370.8848\"/>\n<polygon fill=\"#000000\" stroke=\"#000000\" points=\"700.2751,-367.9198 690.0541,-365.13 696.3045,-373.6848 700.2751,-367.9198\"/>\n<text text-anchor=\"middle\" x=\"694.5856\" y=\"-386.0159\" font-family=\"Times,serif\" font-size=\"14.00\" fill=\"#000000\">True</text>\n</g>\n<!-- 14 -->\n<g id=\"node15\" class=\"node\">\n<title>14</title>\n<polygon fill=\"none\" stroke=\"#000000\" points=\"984,-365 801,-365 801,-297 984,-297 984,-365\"/>\n<text text-anchor=\"middle\" x=\"892.5\" y=\"-349.8\" font-family=\"Times,serif\" font-size=\"14.00\" fill=\"#000000\">nGS_U3_Mandante &lt;= 1.47</text>\n<text text-anchor=\"middle\" x=\"892.5\" y=\"-334.8\" font-family=\"Times,serif\" font-size=\"14.00\" fill=\"#000000\">entropy = 0.744</text>\n<text text-anchor=\"middle\" x=\"892.5\" y=\"-319.8\" font-family=\"Times,serif\" font-size=\"14.00\" fill=\"#000000\">samples = 208</text>\n<text text-anchor=\"middle\" x=\"892.5\" y=\"-304.8\" font-family=\"Times,serif\" font-size=\"14.00\" fill=\"#000000\">value = [44, 164]</text>\n</g>\n<!-- 0&#45;&gt;14 -->\n<g id=\"edge14\" class=\"edge\">\n<title>0&#45;&gt;14</title>\n<path fill=\"none\" stroke=\"#000000\" d=\"M824.5712,-400.9465C833.3779,-391.8782 842.9907,-381.9799 852.1403,-372.5585\"/>\n<polygon fill=\"#000000\" stroke=\"#000000\" points=\"854.8985,-374.7422 859.3545,-365.13 849.8768,-369.8654 854.8985,-374.7422\"/>\n<text text-anchor=\"middle\" x=\"859.7203\" y=\"-386.4273\" font-family=\"Times,serif\" font-size=\"14.00\" fill=\"#000000\">False</text>\n</g>\n<!-- 2 -->\n<g id=\"node3\" class=\"node\">\n<title>2</title>\n<polygon fill=\"none\" stroke=\"#000000\" points=\"486,-261 295,-261 295,-193 486,-193 486,-261\"/>\n<text text-anchor=\"middle\" x=\"390.5\" y=\"-245.8\" font-family=\"Times,serif\" font-size=\"14.00\" fill=\"#000000\">nGF_U3_Mandante &lt;= 1.372</text>\n<text text-anchor=\"middle\" x=\"390.5\" y=\"-230.8\" font-family=\"Times,serif\" font-size=\"14.00\" fill=\"#000000\">entropy = 0.995</text>\n<text text-anchor=\"middle\" x=\"390.5\" y=\"-215.8\" font-family=\"Times,serif\" font-size=\"14.00\" fill=\"#000000\">samples = 2165</text>\n<text text-anchor=\"middle\" x=\"390.5\" y=\"-200.8\" font-family=\"Times,serif\" font-size=\"14.00\" fill=\"#000000\">value = [1173, 992]</text>\n</g>\n<!-- 1&#45;&gt;2 -->\n<g id=\"edge2\" class=\"edge\">\n<title>1&#45;&gt;2</title>\n<path fill=\"none\" stroke=\"#000000\" d=\"M558.6406,-296.9465C534.1439,-286.7559 507.1277,-275.5171 482.0502,-265.0849\"/>\n<polygon fill=\"#000000\" stroke=\"#000000\" points=\"483.1206,-261.7394 472.5433,-261.13 480.4319,-268.2025 483.1206,-261.7394\"/>\n</g>\n<!-- 9 -->\n<g id=\"node10\" class=\"node\">\n<title>9</title>\n<polygon fill=\"none\" stroke=\"#000000\" points=\"726,-261 555,-261 555,-193 726,-193 726,-261\"/>\n<text text-anchor=\"middle\" x=\"640.5\" y=\"-245.8\" font-family=\"Times,serif\" font-size=\"14.00\" fill=\"#000000\">avgGFMandante &lt;= 1.201</text>\n<text text-anchor=\"middle\" x=\"640.5\" y=\"-230.8\" font-family=\"Times,serif\" font-size=\"14.00\" fill=\"#000000\">entropy = 0.818</text>\n<text text-anchor=\"middle\" x=\"640.5\" y=\"-215.8\" font-family=\"Times,serif\" font-size=\"14.00\" fill=\"#000000\">samples = 173</text>\n<text text-anchor=\"middle\" x=\"640.5\" y=\"-200.8\" font-family=\"Times,serif\" font-size=\"14.00\" fill=\"#000000\">value = [44, 129]</text>\n</g>\n<!-- 1&#45;&gt;9 -->\n<g id=\"edge9\" class=\"edge\">\n<title>1&#45;&gt;9</title>\n<path fill=\"none\" stroke=\"#000000\" d=\"M640.5,-296.9465C640.5,-288.776 640.5,-279.9318 640.5,-271.3697\"/>\n<polygon fill=\"#000000\" stroke=\"#000000\" points=\"644.0001,-271.13 640.5,-261.13 637.0001,-271.13 644.0001,-271.13\"/>\n</g>\n<!-- 3 -->\n<g id=\"node4\" class=\"node\">\n<title>3</title>\n<polygon fill=\"none\" stroke=\"#000000\" points=\"280.5,-157 116.5,-157 116.5,-89 280.5,-89 280.5,-157\"/>\n<text text-anchor=\"middle\" x=\"198.5\" y=\"-141.8\" font-family=\"Times,serif\" font-size=\"14.00\" fill=\"#000000\">avgGSVisitante &lt;= 2.486</text>\n<text text-anchor=\"middle\" x=\"198.5\" y=\"-126.8\" font-family=\"Times,serif\" font-size=\"14.00\" fill=\"#000000\">entropy = 0.986</text>\n<text text-anchor=\"middle\" x=\"198.5\" y=\"-111.8\" font-family=\"Times,serif\" font-size=\"14.00\" fill=\"#000000\">samples = 1988</text>\n<text text-anchor=\"middle\" x=\"198.5\" y=\"-96.8\" font-family=\"Times,serif\" font-size=\"14.00\" fill=\"#000000\">value = [1131, 857]</text>\n</g>\n<!-- 2&#45;&gt;3 -->\n<g id=\"edge3\" class=\"edge\">\n<title>2&#45;&gt;3</title>\n<path fill=\"none\" stroke=\"#000000\" d=\"M327.632,-192.9465C309.3158,-183.0252 289.1655,-172.1105 270.3408,-161.9138\"/>\n<polygon fill=\"#000000\" stroke=\"#000000\" points=\"271.9692,-158.8154 261.5092,-157.13 268.6351,-164.9704 271.9692,-158.8154\"/>\n</g>\n<!-- 6 -->\n<g id=\"node7\" class=\"node\">\n<title>6</title>\n<polygon fill=\"none\" stroke=\"#000000\" points=\"482,-157 299,-157 299,-89 482,-89 482,-157\"/>\n<text text-anchor=\"middle\" x=\"390.5\" y=\"-141.8\" font-family=\"Times,serif\" font-size=\"14.00\" fill=\"#000000\">nGS_U3_Visitante &lt;= 1.987</text>\n<text text-anchor=\"middle\" x=\"390.5\" y=\"-126.8\" font-family=\"Times,serif\" font-size=\"14.00\" fill=\"#000000\">entropy = 0.791</text>\n<text text-anchor=\"middle\" x=\"390.5\" y=\"-111.8\" font-family=\"Times,serif\" font-size=\"14.00\" fill=\"#000000\">samples = 177</text>\n<text text-anchor=\"middle\" x=\"390.5\" y=\"-96.8\" font-family=\"Times,serif\" font-size=\"14.00\" fill=\"#000000\">value = [42, 135]</text>\n</g>\n<!-- 2&#45;&gt;6 -->\n<g id=\"edge6\" class=\"edge\">\n<title>2&#45;&gt;6</title>\n<path fill=\"none\" stroke=\"#000000\" d=\"M390.5,-192.9465C390.5,-184.776 390.5,-175.9318 390.5,-167.3697\"/>\n<polygon fill=\"#000000\" stroke=\"#000000\" points=\"394.0001,-167.13 390.5,-157.13 387.0001,-167.13 394.0001,-167.13\"/>\n</g>\n<!-- 4 -->\n<g id=\"node5\" class=\"node\">\n<title>4</title>\n<polygon fill=\"none\" stroke=\"#000000\" points=\"131,-53 0,-53 0,0 131,0 131,-53\"/>\n<text text-anchor=\"middle\" x=\"65.5\" y=\"-37.8\" font-family=\"Times,serif\" font-size=\"14.00\" fill=\"#000000\">entropy = 0.983</text>\n<text text-anchor=\"middle\" x=\"65.5\" y=\"-22.8\" font-family=\"Times,serif\" font-size=\"14.00\" fill=\"#000000\">samples = 1961</text>\n<text text-anchor=\"middle\" x=\"65.5\" y=\"-7.8\" font-family=\"Times,serif\" font-size=\"14.00\" fill=\"#000000\">value = [1131, 830]</text>\n</g>\n<!-- 3&#45;&gt;4 -->\n<g id=\"edge4\" class=\"edge\">\n<title>3&#45;&gt;4</title>\n<path fill=\"none\" stroke=\"#000000\" d=\"M151.6092,-88.9777C138.3577,-79.3629 123.9653,-68.9203 110.8087,-59.3743\"/>\n<polygon fill=\"#000000\" stroke=\"#000000\" points=\"112.5152,-56.2883 102.3658,-53.2485 108.4043,-61.9541 112.5152,-56.2883\"/>\n</g>\n<!-- 5 -->\n<g id=\"node6\" class=\"node\">\n<title>5</title>\n<polygon fill=\"none\" stroke=\"#000000\" points=\"251.5,-53 149.5,-53 149.5,0 251.5,0 251.5,-53\"/>\n<text text-anchor=\"middle\" x=\"200.5\" y=\"-37.8\" font-family=\"Times,serif\" font-size=\"14.00\" fill=\"#000000\">entropy = 0.0</text>\n<text text-anchor=\"middle\" x=\"200.5\" y=\"-22.8\" font-family=\"Times,serif\" font-size=\"14.00\" fill=\"#000000\">samples = 27</text>\n<text text-anchor=\"middle\" x=\"200.5\" y=\"-7.8\" font-family=\"Times,serif\" font-size=\"14.00\" fill=\"#000000\">value = [0, 27]</text>\n</g>\n<!-- 3&#45;&gt;5 -->\n<g id=\"edge5\" class=\"edge\">\n<title>3&#45;&gt;5</title>\n<path fill=\"none\" stroke=\"#000000\" d=\"M199.2051,-88.9777C199.3759,-80.7364 199.5593,-71.887 199.7328,-63.5153\"/>\n<polygon fill=\"#000000\" stroke=\"#000000\" points=\"203.2376,-63.3189 199.9456,-53.2485 196.2391,-63.1738 203.2376,-63.3189\"/>\n</g>\n<!-- 7 -->\n<g id=\"node8\" class=\"node\">\n<title>7</title>\n<polygon fill=\"none\" stroke=\"#000000\" points=\"393,-53 276,-53 276,0 393,0 393,-53\"/>\n<text text-anchor=\"middle\" x=\"334.5\" y=\"-37.8\" font-family=\"Times,serif\" font-size=\"14.00\" fill=\"#000000\">entropy = 0.821</text>\n<text text-anchor=\"middle\" x=\"334.5\" y=\"-22.8\" font-family=\"Times,serif\" font-size=\"14.00\" fill=\"#000000\">samples = 164</text>\n<text text-anchor=\"middle\" x=\"334.5\" y=\"-7.8\" font-family=\"Times,serif\" font-size=\"14.00\" fill=\"#000000\">value = [42, 122]</text>\n</g>\n<!-- 6&#45;&gt;7 -->\n<g id=\"edge7\" class=\"edge\">\n<title>6&#45;&gt;7</title>\n<path fill=\"none\" stroke=\"#000000\" d=\"M370.7565,-88.9777C365.7083,-80.2786 360.2669,-70.9018 355.1734,-62.1247\"/>\n<polygon fill=\"#000000\" stroke=\"#000000\" points=\"358.0689,-60.1409 350.0224,-53.2485 352.0145,-63.6544 358.0689,-60.1409\"/>\n</g>\n<!-- 8 -->\n<g id=\"node9\" class=\"node\">\n<title>8</title>\n<polygon fill=\"none\" stroke=\"#000000\" points=\"513.5,-53 411.5,-53 411.5,0 513.5,0 513.5,-53\"/>\n<text text-anchor=\"middle\" x=\"462.5\" y=\"-37.8\" font-family=\"Times,serif\" font-size=\"14.00\" fill=\"#000000\">entropy = 0.0</text>\n<text text-anchor=\"middle\" x=\"462.5\" y=\"-22.8\" font-family=\"Times,serif\" font-size=\"14.00\" fill=\"#000000\">samples = 13</text>\n<text text-anchor=\"middle\" x=\"462.5\" y=\"-7.8\" font-family=\"Times,serif\" font-size=\"14.00\" fill=\"#000000\">value = [0, 13]</text>\n</g>\n<!-- 6&#45;&gt;8 -->\n<g id=\"edge8\" class=\"edge\">\n<title>6&#45;&gt;8</title>\n<path fill=\"none\" stroke=\"#000000\" d=\"M415.8845,-88.9777C422.58,-80.0039 429.8135,-70.3089 436.539,-61.295\"/>\n<polygon fill=\"#000000\" stroke=\"#000000\" points=\"439.3677,-63.3565 442.5426,-53.2485 433.7573,-59.1704 439.3677,-63.3565\"/>\n</g>\n<!-- 10 -->\n<g id=\"node11\" class=\"node\">\n<title>10</title>\n<polygon fill=\"none\" stroke=\"#000000\" points=\"668.5,-157 500.5,-157 500.5,-89 668.5,-89 668.5,-157\"/>\n<text text-anchor=\"middle\" x=\"584.5\" y=\"-141.8\" font-family=\"Times,serif\" font-size=\"14.00\" fill=\"#000000\">avgGSVisitante &lt;= &#45;1.255</text>\n<text text-anchor=\"middle\" x=\"584.5\" y=\"-126.8\" font-family=\"Times,serif\" font-size=\"14.00\" fill=\"#000000\">entropy = 0.878</text>\n<text text-anchor=\"middle\" x=\"584.5\" y=\"-111.8\" font-family=\"Times,serif\" font-size=\"14.00\" fill=\"#000000\">samples = 148</text>\n<text text-anchor=\"middle\" x=\"584.5\" y=\"-96.8\" font-family=\"Times,serif\" font-size=\"14.00\" fill=\"#000000\">value = [44, 104]</text>\n</g>\n<!-- 9&#45;&gt;10 -->\n<g id=\"edge10\" class=\"edge\">\n<title>9&#45;&gt;10</title>\n<path fill=\"none\" stroke=\"#000000\" d=\"M622.1635,-192.9465C617.5223,-184.3271 612.4773,-174.9579 607.6329,-165.9611\"/>\n<polygon fill=\"#000000\" stroke=\"#000000\" points=\"610.7004,-164.2754 602.8777,-157.13 604.5371,-167.5941 610.7004,-164.2754\"/>\n</g>\n<!-- 13 -->\n<g id=\"node14\" class=\"node\">\n<title>13</title>\n<polygon fill=\"none\" stroke=\"#000000\" points=\"788.5,-149.5 686.5,-149.5 686.5,-96.5 788.5,-96.5 788.5,-149.5\"/>\n<text text-anchor=\"middle\" x=\"737.5\" y=\"-134.3\" font-family=\"Times,serif\" font-size=\"14.00\" fill=\"#000000\">entropy = 0.0</text>\n<text text-anchor=\"middle\" x=\"737.5\" y=\"-119.3\" font-family=\"Times,serif\" font-size=\"14.00\" fill=\"#000000\">samples = 25</text>\n<text text-anchor=\"middle\" x=\"737.5\" y=\"-104.3\" font-family=\"Times,serif\" font-size=\"14.00\" fill=\"#000000\">value = [0, 25]</text>\n</g>\n<!-- 9&#45;&gt;13 -->\n<g id=\"edge13\" class=\"edge\">\n<title>9&#45;&gt;13</title>\n<path fill=\"none\" stroke=\"#000000\" d=\"M672.2614,-192.9465C683.0486,-181.3809 695.095,-168.4652 705.8718,-156.9107\"/>\n<polygon fill=\"#000000\" stroke=\"#000000\" points=\"708.4831,-159.2423 712.7443,-149.5422 703.3641,-154.4678 708.4831,-159.2423\"/>\n</g>\n<!-- 11 -->\n<g id=\"node12\" class=\"node\">\n<title>11</title>\n<polygon fill=\"none\" stroke=\"#000000\" points=\"630,-53 535,-53 535,0 630,0 630,-53\"/>\n<text text-anchor=\"middle\" x=\"582.5\" y=\"-37.8\" font-family=\"Times,serif\" font-size=\"14.00\" fill=\"#000000\">entropy = 0.0</text>\n<text text-anchor=\"middle\" x=\"582.5\" y=\"-22.8\" font-family=\"Times,serif\" font-size=\"14.00\" fill=\"#000000\">samples = 8</text>\n<text text-anchor=\"middle\" x=\"582.5\" y=\"-7.8\" font-family=\"Times,serif\" font-size=\"14.00\" fill=\"#000000\">value = [0, 8]</text>\n</g>\n<!-- 10&#45;&gt;11 -->\n<g id=\"edge11\" class=\"edge\">\n<title>10&#45;&gt;11</title>\n<path fill=\"none\" stroke=\"#000000\" d=\"M583.7949,-88.9777C583.6241,-80.7364 583.4407,-71.887 583.2672,-63.5153\"/>\n<polygon fill=\"#000000\" stroke=\"#000000\" points=\"586.7609,-63.1738 583.0544,-53.2485 579.7624,-63.3189 586.7609,-63.1738\"/>\n</g>\n<!-- 12 -->\n<g id=\"node13\" class=\"node\">\n<title>12</title>\n<polygon fill=\"none\" stroke=\"#000000\" points=\"758.5,-53 648.5,-53 648.5,0 758.5,0 758.5,-53\"/>\n<text text-anchor=\"middle\" x=\"703.5\" y=\"-37.8\" font-family=\"Times,serif\" font-size=\"14.00\" fill=\"#000000\">entropy = 0.898</text>\n<text text-anchor=\"middle\" x=\"703.5\" y=\"-22.8\" font-family=\"Times,serif\" font-size=\"14.00\" fill=\"#000000\">samples = 140</text>\n<text text-anchor=\"middle\" x=\"703.5\" y=\"-7.8\" font-family=\"Times,serif\" font-size=\"14.00\" fill=\"#000000\">value = [44, 96]</text>\n</g>\n<!-- 10&#45;&gt;12 -->\n<g id=\"edge12\" class=\"edge\">\n<title>10&#45;&gt;12</title>\n<path fill=\"none\" stroke=\"#000000\" d=\"M626.4549,-88.9777C638.1986,-79.4545 650.9438,-69.1191 662.624,-59.6473\"/>\n<polygon fill=\"#000000\" stroke=\"#000000\" points=\"664.9522,-62.2656 670.5148,-53.2485 660.5432,-56.8286 664.9522,-62.2656\"/>\n</g>\n<!-- 15 -->\n<g id=\"node16\" class=\"node\">\n<title>15</title>\n<polygon fill=\"none\" stroke=\"#000000\" points=\"984,-261 801,-261 801,-193 984,-193 984,-261\"/>\n<text text-anchor=\"middle\" x=\"892.5\" y=\"-245.8\" font-family=\"Times,serif\" font-size=\"14.00\" fill=\"#000000\">nGF_U3_Visitante &lt;= 2.627</text>\n<text text-anchor=\"middle\" x=\"892.5\" y=\"-230.8\" font-family=\"Times,serif\" font-size=\"14.00\" fill=\"#000000\">entropy = 0.789</text>\n<text text-anchor=\"middle\" x=\"892.5\" y=\"-215.8\" font-family=\"Times,serif\" font-size=\"14.00\" fill=\"#000000\">samples = 186</text>\n<text text-anchor=\"middle\" x=\"892.5\" y=\"-200.8\" font-family=\"Times,serif\" font-size=\"14.00\" fill=\"#000000\">value = [44, 142]</text>\n</g>\n<!-- 14&#45;&gt;15 -->\n<g id=\"edge15\" class=\"edge\">\n<title>14&#45;&gt;15</title>\n<path fill=\"none\" stroke=\"#000000\" d=\"M892.5,-296.9465C892.5,-288.776 892.5,-279.9318 892.5,-271.3697\"/>\n<polygon fill=\"#000000\" stroke=\"#000000\" points=\"896.0001,-271.13 892.5,-261.13 889.0001,-271.13 896.0001,-271.13\"/>\n</g>\n<!-- 20 -->\n<g id=\"node21\" class=\"node\">\n<title>20</title>\n<polygon fill=\"none\" stroke=\"#000000\" points=\"1104.5,-253.5 1002.5,-253.5 1002.5,-200.5 1104.5,-200.5 1104.5,-253.5\"/>\n<text text-anchor=\"middle\" x=\"1053.5\" y=\"-238.3\" font-family=\"Times,serif\" font-size=\"14.00\" fill=\"#000000\">entropy = 0.0</text>\n<text text-anchor=\"middle\" x=\"1053.5\" y=\"-223.3\" font-family=\"Times,serif\" font-size=\"14.00\" fill=\"#000000\">samples = 22</text>\n<text text-anchor=\"middle\" x=\"1053.5\" y=\"-208.3\" font-family=\"Times,serif\" font-size=\"14.00\" fill=\"#000000\">value = [0, 22]</text>\n</g>\n<!-- 14&#45;&gt;20 -->\n<g id=\"edge20\" class=\"edge\">\n<title>14&#45;&gt;20</title>\n<path fill=\"none\" stroke=\"#000000\" d=\"M945.2174,-296.9465C964.0598,-284.775 985.2168,-271.1084 1003.7966,-259.1066\"/>\n<polygon fill=\"#000000\" stroke=\"#000000\" points=\"1005.9099,-261.9082 1012.4107,-253.5422 1002.1117,-256.0283 1005.9099,-261.9082\"/>\n</g>\n<!-- 16 -->\n<g id=\"node17\" class=\"node\">\n<title>16</title>\n<polygon fill=\"none\" stroke=\"#000000\" points=\"978,-157 807,-157 807,-89 978,-89 978,-157\"/>\n<text text-anchor=\"middle\" x=\"892.5\" y=\"-141.8\" font-family=\"Times,serif\" font-size=\"14.00\" fill=\"#000000\">avgGFMandante &lt;= 0.778</text>\n<text text-anchor=\"middle\" x=\"892.5\" y=\"-126.8\" font-family=\"Times,serif\" font-size=\"14.00\" fill=\"#000000\">entropy = 0.849</text>\n<text text-anchor=\"middle\" x=\"892.5\" y=\"-111.8\" font-family=\"Times,serif\" font-size=\"14.00\" fill=\"#000000\">samples = 160</text>\n<text text-anchor=\"middle\" x=\"892.5\" y=\"-96.8\" font-family=\"Times,serif\" font-size=\"14.00\" fill=\"#000000\">value = [44, 116]</text>\n</g>\n<!-- 15&#45;&gt;16 -->\n<g id=\"edge16\" class=\"edge\">\n<title>15&#45;&gt;16</title>\n<path fill=\"none\" stroke=\"#000000\" d=\"M892.5,-192.9465C892.5,-184.776 892.5,-175.9318 892.5,-167.3697\"/>\n<polygon fill=\"#000000\" stroke=\"#000000\" points=\"896.0001,-167.13 892.5,-157.13 889.0001,-167.13 896.0001,-167.13\"/>\n</g>\n<!-- 19 -->\n<g id=\"node20\" class=\"node\">\n<title>19</title>\n<polygon fill=\"none\" stroke=\"#000000\" points=\"1098.5,-149.5 996.5,-149.5 996.5,-96.5 1098.5,-96.5 1098.5,-149.5\"/>\n<text text-anchor=\"middle\" x=\"1047.5\" y=\"-134.3\" font-family=\"Times,serif\" font-size=\"14.00\" fill=\"#000000\">entropy = 0.0</text>\n<text text-anchor=\"middle\" x=\"1047.5\" y=\"-119.3\" font-family=\"Times,serif\" font-size=\"14.00\" fill=\"#000000\">samples = 26</text>\n<text text-anchor=\"middle\" x=\"1047.5\" y=\"-104.3\" font-family=\"Times,serif\" font-size=\"14.00\" fill=\"#000000\">value = [0, 26]</text>\n</g>\n<!-- 15&#45;&gt;19 -->\n<g id=\"edge19\" class=\"edge\">\n<title>15&#45;&gt;19</title>\n<path fill=\"none\" stroke=\"#000000\" d=\"M943.2528,-192.9465C961.3109,-180.8301 981.5773,-167.232 999.4059,-155.2696\"/>\n<polygon fill=\"#000000\" stroke=\"#000000\" points=\"1001.5881,-158.0203 1007.942,-149.5422 997.6879,-152.2075 1001.5881,-158.0203\"/>\n</g>\n<!-- 17 -->\n<g id=\"node18\" class=\"node\">\n<title>17</title>\n<polygon fill=\"none\" stroke=\"#000000\" points=\"917.5,-53 807.5,-53 807.5,0 917.5,0 917.5,-53\"/>\n<text text-anchor=\"middle\" x=\"862.5\" y=\"-37.8\" font-family=\"Times,serif\" font-size=\"14.00\" fill=\"#000000\">entropy = 0.918</text>\n<text text-anchor=\"middle\" x=\"862.5\" y=\"-22.8\" font-family=\"Times,serif\" font-size=\"14.00\" fill=\"#000000\">samples = 117</text>\n<text text-anchor=\"middle\" x=\"862.5\" y=\"-7.8\" font-family=\"Times,serif\" font-size=\"14.00\" fill=\"#000000\">value = [39, 78]</text>\n</g>\n<!-- 16&#45;&gt;17 -->\n<g id=\"edge17\" class=\"edge\">\n<title>16&#45;&gt;17</title>\n<path fill=\"none\" stroke=\"#000000\" d=\"M881.9231,-88.9777C879.3041,-80.5533 876.4876,-71.4934 873.8341,-62.9579\"/>\n<polygon fill=\"#000000\" stroke=\"#000000\" points=\"877.1265,-61.7586 870.8156,-53.2485 870.4421,-63.8367 877.1265,-61.7586\"/>\n</g>\n<!-- 18 -->\n<g id=\"node19\" class=\"node\">\n<title>18</title>\n<polygon fill=\"none\" stroke=\"#000000\" points=\"1045.5,-53 935.5,-53 935.5,0 1045.5,0 1045.5,-53\"/>\n<text text-anchor=\"middle\" x=\"990.5\" y=\"-37.8\" font-family=\"Times,serif\" font-size=\"14.00\" fill=\"#000000\">entropy = 0.519</text>\n<text text-anchor=\"middle\" x=\"990.5\" y=\"-22.8\" font-family=\"Times,serif\" font-size=\"14.00\" fill=\"#000000\">samples = 43</text>\n<text text-anchor=\"middle\" x=\"990.5\" y=\"-7.8\" font-family=\"Times,serif\" font-size=\"14.00\" fill=\"#000000\">value = [5, 38]</text>\n</g>\n<!-- 16&#45;&gt;18 -->\n<g id=\"edge18\" class=\"edge\">\n<title>16&#45;&gt;18</title>\n<path fill=\"none\" stroke=\"#000000\" d=\"M927.0511,-88.9777C936.4434,-79.7292 946.6136,-69.7147 956.0029,-60.4691\"/>\n<polygon fill=\"#000000\" stroke=\"#000000\" points=\"958.6661,-62.7587 963.3357,-53.2485 953.7546,-57.7709 958.6661,-62.7587\"/>\n</g>\n</g>\n</svg>\n"
          },
          "metadata": {
            "tags": []
          },
          "execution_count": 53
        }
      ]
    },
    {
      "cell_type": "code",
      "metadata": {
        "id": "7dMj7n5Z3UKn"
      },
      "source": [
        "!dot -Tpng tree.dot -o tree.png"
      ],
      "execution_count": null,
      "outputs": []
    },
    {
      "cell_type": "markdown",
      "metadata": {
        "id": "C4q4cbqq5td8"
      },
      "source": [
        "#### Resultados para floresta randomica"
      ]
    },
    {
      "cell_type": "code",
      "metadata": {
        "id": "cS6jKrHvJqwW"
      },
      "source": [
        "from sklearn.ensemble import RandomForestClassifier"
      ],
      "execution_count": null,
      "outputs": []
    },
    {
      "cell_type": "code",
      "metadata": {
        "id": "dTIZe0lWJt3O",
        "colab": {
          "base_uri": "https://localhost:8080/"
        },
        "outputId": "25828a69-f438-4517-eaa6-36592a0781a0"
      },
      "source": [
        "#define a floresta randomica\n",
        "clf_floresta = RandomForestClassifier(max_depth=9, random_state=1,n_estimators=100,min_samples_split=2,max_features='auto',oob_score=True,criterion='gini')\n",
        "clf_floresta.fit(X_train,y_train)"
      ],
      "execution_count": null,
      "outputs": [
        {
          "output_type": "execute_result",
          "data": {
            "text/plain": [
              "RandomForestClassifier(bootstrap=True, ccp_alpha=0.0, class_weight=None,\n",
              "                       criterion='gini', max_depth=9, max_features='auto',\n",
              "                       max_leaf_nodes=None, max_samples=None,\n",
              "                       min_impurity_decrease=0.0, min_impurity_split=None,\n",
              "                       min_samples_leaf=1, min_samples_split=2,\n",
              "                       min_weight_fraction_leaf=0.0, n_estimators=100,\n",
              "                       n_jobs=None, oob_score=True, random_state=1, verbose=0,\n",
              "                       warm_start=False)"
            ]
          },
          "metadata": {
            "tags": []
          },
          "execution_count": 56
        }
      ]
    },
    {
      "cell_type": "code",
      "metadata": {
        "id": "N190ITRfJvJr"
      },
      "source": [
        "#Realiza a previsão de classificaçao \n",
        "y_pred_floresta = clf_floresta.predict(X_test)"
      ],
      "execution_count": null,
      "outputs": []
    },
    {
      "cell_type": "code",
      "metadata": {
        "id": "P3VAtLUdJxm7",
        "colab": {
          "base_uri": "https://localhost:8080/"
        },
        "outputId": "c5ee3994-31d3-44a5-97e7-e5d074a02725"
      },
      "source": [
        "print(\"O valor de f1-score para a floresta randômica é:\\n \",classification_report(y_test,y_pred_floresta))\n",
        "score = (cross_val_score(clf_floresta, X_test, y_test,cv=5))\n",
        "print(score.mean())"
      ],
      "execution_count": null,
      "outputs": [
        {
          "output_type": "stream",
          "text": [
            "O valor de f1-score para a floresta randômica é:\n",
            "                precision    recall  f1-score   support\n",
            "\n",
            "           0       0.66      0.82      0.73       558\n",
            "           1       0.75      0.57      0.64       534\n",
            "\n",
            "    accuracy                           0.69      1092\n",
            "   macro avg       0.70      0.69      0.69      1092\n",
            "weighted avg       0.70      0.69      0.69      1092\n",
            "\n",
            "0.6703238238867245\n"
          ],
          "name": "stdout"
        }
      ]
    },
    {
      "cell_type": "code",
      "metadata": {
        "id": "pmWtZLKbPLiR",
        "colab": {
          "base_uri": "https://localhost:8080/",
          "height": 574
        },
        "outputId": "d6593778-54c5-4670-f83b-8edcacb2cfa5"
      },
      "source": [
        "from sklearn.metrics import plot_confusion_matrix\n",
        "#realiza o plot da matriz de confusão\n",
        "plt.rcParams[\"figure.figsize\"]=(10, 10)\n",
        "plot_confusion_matrix(clf_floresta, X_test, y_test)\n",
        "plt.show()"
      ],
      "execution_count": null,
      "outputs": [
        {
          "output_type": "display_data",
          "data": {
            "image/png": "[encoded data removed]",
            "text/plain": [
              "<Figure size 720x720 with 2 Axes>"
            ]
          },
          "metadata": {
            "tags": [],
            "needs_background": "light"
          }
        }
      ]
    },
    {
      "cell_type": "markdown",
      "metadata": {
        "id": "ATf2VRaQ51aX"
      },
      "source": [
        "#### Resultados para MLP"
      ]
    },
    {
      "cell_type": "code",
      "metadata": {
        "id": "hMTloRd3KAN0",
        "colab": {
          "base_uri": "https://localhost:8080/"
        },
        "outputId": "474e48a8-9ebc-4590-f246-7f3f338955ba"
      },
      "source": [
        "#MLP como classificador\n",
        "from sklearn.neural_network import MLPClassifier\n",
        "#define a configuração da rede\n",
        "clf_mlp = MLPClassifier( alpha=1e-5, hidden_layer_sizes=(8, 8), random_state=1)\n",
        "\n",
        "#realiza o fit do modelo\n",
        "clf_mlp.fit(X_train,y_train)\n",
        "\n",
        "\n",
        "#realiza a previsão\n",
        "y_pred_mlp=clf_mlp.predict(X_test)"
      ],
      "execution_count": null,
      "outputs": [
        {
          "output_type": "stream",
          "text": [
            "/usr/local/lib/python3.7/dist-packages/sklearn/neural_network/_multilayer_perceptron.py:571: ConvergenceWarning: Stochastic Optimizer: Maximum iterations (200) reached and the optimization hasn't converged yet.\n",
            "  % self.max_iter, ConvergenceWarning)\n"
          ],
          "name": "stderr"
        }
      ]
    },
    {
      "cell_type": "code",
      "metadata": {
        "id": "Rp_PVUBDKEA3",
        "colab": {
          "base_uri": "https://localhost:8080/"
        },
        "outputId": "cd00d2f1-8df9-479f-9060-1c47e3482569"
      },
      "source": [
        "print(\"O valor de f1-score para MLP é:\\n \",classification_report(y_test,y_pred_mlp))\n",
        "print(cross_val_score(clf_mlp, X_train, y_train,cv=5))"
      ],
      "execution_count": null,
      "outputs": [
        {
          "output_type": "stream",
          "text": [
            "O valor de f1-score para MLP é:\n",
            "                precision    recall  f1-score   support\n",
            "\n",
            "           0       0.65      0.72      0.68       558\n",
            "           1       0.67      0.59      0.63       534\n",
            "\n",
            "    accuracy                           0.66      1092\n",
            "   macro avg       0.66      0.65      0.65      1092\n",
            "weighted avg       0.66      0.66      0.65      1092\n",
            "\n"
          ],
          "name": "stdout"
        },
        {
          "output_type": "stream",
          "text": [
            "/usr/local/lib/python3.7/dist-packages/sklearn/neural_network/_multilayer_perceptron.py:571: ConvergenceWarning: Stochastic Optimizer: Maximum iterations (200) reached and the optimization hasn't converged yet.\n",
            "  % self.max_iter, ConvergenceWarning)\n",
            "/usr/local/lib/python3.7/dist-packages/sklearn/neural_network/_multilayer_perceptron.py:571: ConvergenceWarning: Stochastic Optimizer: Maximum iterations (200) reached and the optimization hasn't converged yet.\n",
            "  % self.max_iter, ConvergenceWarning)\n",
            "/usr/local/lib/python3.7/dist-packages/sklearn/neural_network/_multilayer_perceptron.py:571: ConvergenceWarning: Stochastic Optimizer: Maximum iterations (200) reached and the optimization hasn't converged yet.\n",
            "  % self.max_iter, ConvergenceWarning)\n",
            "/usr/local/lib/python3.7/dist-packages/sklearn/neural_network/_multilayer_perceptron.py:571: ConvergenceWarning: Stochastic Optimizer: Maximum iterations (200) reached and the optimization hasn't converged yet.\n",
            "  % self.max_iter, ConvergenceWarning)\n"
          ],
          "name": "stderr"
        },
        {
          "output_type": "stream",
          "text": [
            "[0.63333333 0.64243615 0.65422397 0.66208251 0.64636542]\n"
          ],
          "name": "stdout"
        },
        {
          "output_type": "stream",
          "text": [
            "/usr/local/lib/python3.7/dist-packages/sklearn/neural_network/_multilayer_perceptron.py:571: ConvergenceWarning: Stochastic Optimizer: Maximum iterations (200) reached and the optimization hasn't converged yet.\n",
            "  % self.max_iter, ConvergenceWarning)\n"
          ],
          "name": "stderr"
        }
      ]
    },
    {
      "cell_type": "code",
      "metadata": {
        "id": "oW7Mm1oCFIja",
        "colab": {
          "base_uri": "https://localhost:8080/",
          "height": 575
        },
        "outputId": "7b92dbda-85fd-41c6-c02e-9bc26dfe83d9"
      },
      "source": [
        "\n",
        "#realiza o plot da matriz de confusão\n",
        "plt.rcParams[\"figure.figsize\"]=(10, 10)\n",
        "plot_confusion_matrix(clf_mlp, X_test, y_test)\n",
        "plt.show()"
      ],
      "execution_count": null,
      "outputs": [
        {
          "output_type": "display_data",
          "data": {
            "image/png": "[encoded data removed]",
            "text/plain": [
              "<Figure size 720x720 with 2 Axes>"
            ]
          },
          "metadata": {
            "tags": [],
            "needs_background": "light"
          }
        }
      ]
    },
    {
      "cell_type": "markdown",
      "metadata": {
        "id": "nzi4tz9uOUgN"
      },
      "source": [
        "#### Resultados para Naive Bayes\n"
      ]
    },
    {
      "cell_type": "code",
      "metadata": {
        "id": "beC3Z8awOUBO",
        "colab": {
          "base_uri": "https://localhost:8080/"
        },
        "outputId": "36c9df23-695b-4956-f65a-6a85f193a5cf"
      },
      "source": [
        "\n",
        "from sklearn.naive_bayes import GaussianNB\n",
        "#define a configuração da rede\n",
        "clf_naive = GaussianNB()\n",
        "\n",
        "#realiza o fit do modelo\n",
        "clf_naive.fit(X_train,y_train)\n",
        "\n",
        "\n",
        "#realiza a previsão\n",
        "y_pred_naive=clf_naive.predict(X_test)\n",
        "\n",
        "print(\"O valor de f1-score para Naive Bayes é:\\n \",classification_report(y_test,y_pred_naive))\n",
        "print(cross_val_score(clf_naive, X_test , y_test, cv=5))"
      ],
      "execution_count": null,
      "outputs": [
        {
          "output_type": "stream",
          "text": [
            "O valor de f1-score para Naive Bayes é:\n",
            "                precision    recall  f1-score   support\n",
            "\n",
            "           0       0.66      0.81      0.73       558\n",
            "           1       0.74      0.57      0.64       534\n",
            "\n",
            "    accuracy                           0.69      1092\n",
            "   macro avg       0.70      0.69      0.68      1092\n",
            "weighted avg       0.70      0.69      0.68      1092\n",
            "\n",
            "[0.68949772 0.6347032  0.71100917 0.66055046 0.70183486]\n"
          ],
          "name": "stdout"
        }
      ]
    },
    {
      "cell_type": "code",
      "metadata": {
        "colab": {
          "base_uri": "https://localhost:8080/",
          "height": 577
        },
        "id": "GfjCVAbdzo80",
        "outputId": "764c7104-ea7b-4d8c-beab-b7bb0ec805d0"
      },
      "source": [
        "plt.rcParams[\"figure.figsize\"]=(10, 10)\n",
        "plot_confusion_matrix(clf_naive, X_test, y_test)\n",
        "plt.show()"
      ],
      "execution_count": null,
      "outputs": [
        {
          "output_type": "display_data",
          "data": {
            "image/png": "[encoded data removed]",
            "text/plain": [
              "<Figure size 720x720 with 2 Axes>"
            ]
          },
          "metadata": {
            "tags": [],
            "needs_background": "light"
          }
        }
      ]
    },
    {
      "cell_type": "markdown",
      "metadata": {
        "id": "77CXSJnXjUBp"
      },
      "source": [
        "#### Resultados para ExtraTrees"
      ]
    },
    {
      "cell_type": "code",
      "metadata": {
        "id": "Dsp37GAEPpiN",
        "colab": {
          "base_uri": "https://localhost:8080/"
        },
        "outputId": "9fc34823-afae-4d5d-d4d6-882c06d22ee2"
      },
      "source": [
        "from sklearn.ensemble import ExtraTreesClassifier\n",
        "from sklearn.datasets import make_classification\n",
        "\n",
        "X_escaler, y = make_classification(n_features=8, random_state=0,n_classes=2,n_samples=1000)\n",
        "#define a configuração da rede\n",
        "clf_extra_tree = ExtraTreesClassifier(criterion='entropy',max_depth=9,max_features='auto',n_estimators=100)\n",
        "\n",
        "#realiza o fit do modelo\n",
        "clf_extra_tree.fit(X_train,y_train)\n",
        "\n",
        "\n",
        "#realiza a previsão\n",
        "y_pred_extra_tree = clf_extra_tree.predict(X_test)\n",
        "\n",
        "print(\"O valor de f1-score para Naive Bayes é:\\n \",classification_report(y_test,y_pred_extra_tree))"
      ],
      "execution_count": null,
      "outputs": [
        {
          "output_type": "stream",
          "text": [
            "O valor de f1-score para Naive Bayes é:\n",
            "                precision    recall  f1-score   support\n",
            "\n",
            "           0       0.66      0.81      0.73       558\n",
            "           1       0.74      0.56      0.64       534\n",
            "\n",
            "    accuracy                           0.69      1092\n",
            "   macro avg       0.70      0.69      0.69      1092\n",
            "weighted avg       0.70      0.69      0.69      1092\n",
            "\n"
          ],
          "name": "stdout"
        }
      ]
    },
    {
      "cell_type": "markdown",
      "metadata": {
        "id": "nQbcOLaekx7H"
      },
      "source": [
        "#### Resultado para GradientBoost\n",
        "\n",
        "\n"
      ]
    },
    {
      "cell_type": "code",
      "metadata": {
        "id": "RLAlcm1IkxlR",
        "colab": {
          "base_uri": "https://localhost:8080/"
        },
        "outputId": "06ec45b9-6aec-48af-d40e-8ee23e4ff493"
      },
      "source": [
        "\n",
        "from sklearn.ensemble import GradientBoostingClassifier\n",
        "\n",
        "\n",
        "\n",
        "clf_gradient = GradientBoostingClassifier(n_estimators=1000, learning_rate=0.1,max_depth=1 ,max_features='auto',subsample = 1, loss='exponential').fit(X_train, y_train)\n",
        "\n",
        "y_pred_gradient = clf_gradient.predict(X_test)\n",
        "\n",
        "print(\"O valor de f1-score para Naive Bayes é:\\n \",classification_report(y_test,y_pred_gradient))\n",
        "clf_gradient.score(X_test, y_test)\n",
        "print(clf_gradient)"
      ],
      "execution_count": null,
      "outputs": [
        {
          "output_type": "stream",
          "text": [
            "O valor de f1-score para Naive Bayes é:\n",
            "                precision    recall  f1-score   support\n",
            "\n",
            "           0       0.67      0.80      0.73       558\n",
            "           1       0.74      0.58      0.65       534\n",
            "\n",
            "    accuracy                           0.69      1092\n",
            "   macro avg       0.70      0.69      0.69      1092\n",
            "weighted avg       0.70      0.69      0.69      1092\n",
            "\n",
            "GradientBoostingClassifier(ccp_alpha=0.0, criterion='friedman_mse', init=None,\n",
            "                           learning_rate=0.1, loss='exponential', max_depth=1,\n",
            "                           max_features='auto', max_leaf_nodes=None,\n",
            "                           min_impurity_decrease=0.0, min_impurity_split=None,\n",
            "                           min_samples_leaf=1, min_samples_split=2,\n",
            "                           min_weight_fraction_leaf=0.0, n_estimators=1000,\n",
            "                           n_iter_no_change=None, presort='deprecated',\n",
            "                           random_state=None, subsample=1, tol=0.0001,\n",
            "                           validation_fraction=0.1, verbose=0,\n",
            "                           warm_start=False)\n"
          ],
          "name": "stdout"
        }
      ]
    },
    {
      "cell_type": "code",
      "metadata": {
        "id": "21plG6LxCaLk",
        "colab": {
          "base_uri": "https://localhost:8080/"
        },
        "outputId": "bf46b684-e6a7-4c22-c902-ed26accb7313"
      },
      "source": [
        "##from sklearn.model_selection import RandomizedSearchCV\n",
        "\n",
        "##param_grid = {'max_features' : ['auto'],\n",
        "##              'max_depth' : [1],\n",
        "##              'learning_rate' : [0.01,0.001,0.1,1,1.5],\n",
        "  ##            'subsample' : [0.1,0.3,0.5,0.7,1],\n",
        "    ##          'n_estimators' : [10,100,500,1000,3000],\n",
        "      ##        'loss' : ['exponential']\n",
        "        ##      }\n",
        "\n",
        "##grid = RandomizedSearchCV(clf_gradient, param_distributions =param_grid, return_train_score = True)\n",
        "##grid.fit(X_train,y_train)\n",
        "##grid.cv_results_\n"
      ],
      "execution_count": null,
      "outputs": [
        {
          "output_type": "execute_result",
          "data": {
            "text/plain": [
              "{'mean_fit_time': array([1.50314646, 0.71126003, 4.42159505, 1.43559175, 1.12321091,\n",
              "        0.84944124, 2.53928494, 0.08561211, 0.66930633, 0.13262939]),\n",
              " 'mean_score_time': array([0.00307665, 0.00212355, 0.0098052 , 0.00387363, 0.00338378,\n",
              "        0.00407863, 0.00988989, 0.00095191, 0.00233169, 0.00089469]),\n",
              " 'mean_test_score': array([0.63000732, 0.67596132, 0.67478408, 0.65396587, 0.63864864,\n",
              "        0.67439578, 0.58642398, 0.56835471, 0.68107169, 0.67478639]),\n",
              " 'mean_train_score': array([0.65102205, 0.70316242, 0.70306375, 0.74813485, 0.653182  ,\n",
              "        0.69049538, 0.66309811, 0.57747419, 0.70895559, 0.69137899]),\n",
              " 'param_learning_rate': masked_array(data=[0.001, 0.1, 0.01, 1, 0.001, 0.01, 1, 0.001, 0.1, 0.1],\n",
              "              mask=[False, False, False, False, False, False, False, False,\n",
              "                    False, False],\n",
              "        fill_value='?',\n",
              "             dtype=object),\n",
              " 'param_loss': masked_array(data=['exponential', 'exponential', 'exponential',\n",
              "                    'exponential', 'exponential', 'exponential',\n",
              "                    'exponential', 'exponential', 'exponential',\n",
              "                    'exponential'],\n",
              "              mask=[False, False, False, False, False, False, False, False,\n",
              "                    False, False],\n",
              "        fill_value='?',\n",
              "             dtype=object),\n",
              " 'param_max_depth': masked_array(data=[1, 1, 1, 1, 1, 1, 1, 1, 1, 1],\n",
              "              mask=[False, False, False, False, False, False, False, False,\n",
              "                    False, False],\n",
              "        fill_value='?',\n",
              "             dtype=object),\n",
              " 'param_max_features': masked_array(data=['auto', 'auto', 'auto', 'auto', 'auto', 'auto', 'auto',\n",
              "                    'auto', 'auto', 'auto'],\n",
              "              mask=[False, False, False, False, False, False, False, False,\n",
              "                    False, False],\n",
              "        fill_value='?',\n",
              "             dtype=object),\n",
              " 'param_n_estimators': masked_array(data=[1000, 500, 3000, 1000, 1000, 1000, 3000, 100, 500, 100],\n",
              "              mask=[False, False, False, False, False, False, False, False,\n",
              "                    False, False],\n",
              "        fill_value='?',\n",
              "             dtype=object),\n",
              " 'param_subsample': masked_array(data=[0.7, 1, 0.7, 1, 0.3, 0.1, 0.1, 0.1, 0.5, 0.5],\n",
              "              mask=[False, False, False, False, False, False, False, False,\n",
              "                    False, False],\n",
              "        fill_value='?',\n",
              "             dtype=object),\n",
              " 'params': [{'learning_rate': 0.001,\n",
              "   'loss': 'exponential',\n",
              "   'max_depth': 1,\n",
              "   'max_features': 'auto',\n",
              "   'n_estimators': 1000,\n",
              "   'subsample': 0.7},\n",
              "  {'learning_rate': 0.1,\n",
              "   'loss': 'exponential',\n",
              "   'max_depth': 1,\n",
              "   'max_features': 'auto',\n",
              "   'n_estimators': 500,\n",
              "   'subsample': 1},\n",
              "  {'learning_rate': 0.01,\n",
              "   'loss': 'exponential',\n",
              "   'max_depth': 1,\n",
              "   'max_features': 'auto',\n",
              "   'n_estimators': 3000,\n",
              "   'subsample': 0.7},\n",
              "  {'learning_rate': 1,\n",
              "   'loss': 'exponential',\n",
              "   'max_depth': 1,\n",
              "   'max_features': 'auto',\n",
              "   'n_estimators': 1000,\n",
              "   'subsample': 1},\n",
              "  {'learning_rate': 0.001,\n",
              "   'loss': 'exponential',\n",
              "   'max_depth': 1,\n",
              "   'max_features': 'auto',\n",
              "   'n_estimators': 1000,\n",
              "   'subsample': 0.3},\n",
              "  {'learning_rate': 0.01,\n",
              "   'loss': 'exponential',\n",
              "   'max_depth': 1,\n",
              "   'max_features': 'auto',\n",
              "   'n_estimators': 1000,\n",
              "   'subsample': 0.1},\n",
              "  {'learning_rate': 1,\n",
              "   'loss': 'exponential',\n",
              "   'max_depth': 1,\n",
              "   'max_features': 'auto',\n",
              "   'n_estimators': 3000,\n",
              "   'subsample': 0.1},\n",
              "  {'learning_rate': 0.001,\n",
              "   'loss': 'exponential',\n",
              "   'max_depth': 1,\n",
              "   'max_features': 'auto',\n",
              "   'n_estimators': 100,\n",
              "   'subsample': 0.1},\n",
              "  {'learning_rate': 0.1,\n",
              "   'loss': 'exponential',\n",
              "   'max_depth': 1,\n",
              "   'max_features': 'auto',\n",
              "   'n_estimators': 500,\n",
              "   'subsample': 0.5},\n",
              "  {'learning_rate': 0.1,\n",
              "   'loss': 'exponential',\n",
              "   'max_depth': 1,\n",
              "   'max_features': 'auto',\n",
              "   'n_estimators': 100,\n",
              "   'subsample': 0.5}],\n",
              " 'rank_test_score': array([ 8,  2,  4,  6,  7,  5,  9, 10,  1,  3], dtype=int32),\n",
              " 'split0_test_score': array([0.63137255, 0.67843137, 0.6745098 , 0.65686275, 0.63921569,\n",
              "        0.6627451 , 0.55098039, 0.5372549 , 0.67254902, 0.66862745]),\n",
              " 'split0_train_score': array([0.65962672, 0.70923379, 0.7043222 , 0.75343811, 0.6586444 ,\n",
              "        0.69548134, 0.65422397, 0.57465619, 0.71267191, 0.69499018]),\n",
              " 'split1_test_score': array([0.63654224, 0.65422397, 0.65422397, 0.64636542, 0.64243615,\n",
              "        0.67583497, 0.57367387, 0.58349705, 0.65815324, 0.66404715]),\n",
              " 'split1_train_score': array([0.64899362, 0.70495827, 0.70594011, 0.75110457, 0.6593029 ,\n",
              "        0.69415808, 0.67206676, 0.5994109 , 0.71624939, 0.69415808]),\n",
              " 'split2_test_score': array([0.64440079, 0.67779961, 0.67387033, 0.6345776 , 0.65225933,\n",
              "        0.6935167 , 0.57956778, 0.57956778, 0.68762279, 0.67583497]),\n",
              " 'split2_train_score': array([0.6485027 , 0.70348552, 0.70544919, 0.74815906, 0.64997545,\n",
              "        0.68777614, 0.68188513, 0.57142857, 0.71035837, 0.6892489 ]),\n",
              " 'split3_test_score': array([0.64636542, 0.68762279, 0.69548134, 0.67387033, 0.65225933,\n",
              "        0.66994106, 0.58349705, 0.59332024, 0.69941061, 0.68172888]),\n",
              " 'split3_train_score': array([0.64653903, 0.6975945 , 0.6975945 , 0.74423171, 0.64801178,\n",
              "        0.68679431, 0.64702995, 0.57437408, 0.70152185, 0.6892489 ]),\n",
              " 'split4_test_score': array([0.5913556 , 0.68172888, 0.67583497, 0.65815324, 0.60707269,\n",
              "        0.66994106, 0.64440079, 0.5481336 , 0.68762279, 0.68369352]),\n",
              " 'split4_train_score': array([0.65144821, 0.70054001, 0.70201276, 0.7437408 , 0.64997545,\n",
              "        0.68826706, 0.66028473, 0.56750123, 0.70397644, 0.6892489 ]),\n",
              " 'std_fit_time': array([0.04058443, 0.0037917 , 0.01822336, 0.00493393, 0.00476398,\n",
              "        0.00451468, 0.00155722, 0.00125584, 0.00357713, 0.00119778]),\n",
              " 'std_score_time': array([9.64940520e-05, 3.24113902e-05, 5.61706846e-04, 1.14554250e-04,\n",
              "        1.01539290e-04, 6.59114188e-05, 2.35811591e-04, 2.47453218e-05,\n",
              "        1.03916963e-04, 1.03777558e-05]),\n",
              " 'std_test_score': array([0.02006631, 0.01141269, 0.01306223, 0.0130827 , 0.01662654,\n",
              "        0.01042217, 0.03109887, 0.02169974, 0.01428314, 0.00750864]),\n",
              " 'std_train_score': array([0.0045778 , 0.00395145, 0.00305171, 0.00378118, 0.00478745,\n",
              "        0.003587  , 0.0124759 , 0.01126748, 0.0054595 , 0.00262206])}"
            ]
          },
          "metadata": {
            "tags": []
          },
          "execution_count": 66
        }
      ]
    },
    {
      "cell_type": "code",
      "metadata": {
        "id": "bKGeK7hdJnDI",
        "colab": {
          "base_uri": "https://localhost:8080/"
        },
        "outputId": "0d18b827-1854-4208-fe16-93d32817c2e3"
      },
      "source": [
        "best_clf_gradient = grid.best_estimator_\n",
        "y_best_pred_gradient = best_clf_gradient.predict(X_test)\n",
        "print(\"O valor de f1-score para Naive Bayes é:\\n \",classification_report(y_test,y_best_pred_gradient))\n",
        "print(grid.best_estimator_)"
      ],
      "execution_count": null,
      "outputs": [
        {
          "output_type": "stream",
          "text": [
            "O valor de f1-score para Naive Bayes é:\n",
            "                precision    recall  f1-score   support\n",
            "\n",
            "           0       0.67      0.79      0.73       558\n",
            "           1       0.73      0.60      0.66       534\n",
            "\n",
            "    accuracy                           0.70      1092\n",
            "   macro avg       0.70      0.69      0.69      1092\n",
            "weighted avg       0.70      0.70      0.69      1092\n",
            "\n",
            "GradientBoostingClassifier(ccp_alpha=0.0, criterion='friedman_mse', init=None,\n",
            "                           learning_rate=0.1, loss='exponential', max_depth=1,\n",
            "                           max_features='auto', max_leaf_nodes=None,\n",
            "                           min_impurity_decrease=0.0, min_impurity_split=None,\n",
            "                           min_samples_leaf=1, min_samples_split=2,\n",
            "                           min_weight_fraction_leaf=0.0, n_estimators=500,\n",
            "                           n_iter_no_change=None, presort='deprecated',\n",
            "                           random_state=None, subsample=0.5, tol=0.0001,\n",
            "                           validation_fraction=0.1, verbose=0,\n",
            "                           warm_start=False)\n"
          ],
          "name": "stdout"
        }
      ]
    },
    {
      "cell_type": "markdown",
      "metadata": {
        "id": "gjREBWqFxcgH"
      },
      "source": [
        "#### Adaboost"
      ]
    },
    {
      "cell_type": "code",
      "metadata": {
        "id": "7EfND0FRnJ5j",
        "colab": {
          "base_uri": "https://localhost:8080/"
        },
        "outputId": "20ba31bd-5b07-4e4f-bcd6-054e079973c2"
      },
      "source": [
        "from sklearn.ensemble import AdaBoostClassifier\n",
        "from sklearn.datasets import make_classification\n",
        "\n",
        "\n",
        "clf_ada = AdaBoostClassifier(n_estimators=100, random_state=0,learning_rate=0.1, base_estimator=None)\n",
        "clf_ada.fit(X_train, y_train)\n",
        "\n",
        "y_pred_ada = clf_ada.predict(X_test)\n",
        "\n",
        "print(\"O valor de f1-score para Naive Bayes é:\\n \",classification_report(y_test,y_pred_ada))\n",
        "print(clf_ada)"
      ],
      "execution_count": null,
      "outputs": [
        {
          "output_type": "stream",
          "text": [
            "O valor de f1-score para Naive Bayes é:\n",
            "                precision    recall  f1-score   support\n",
            "\n",
            "           0       0.66      0.82      0.73       558\n",
            "           1       0.75      0.56      0.64       534\n",
            "\n",
            "    accuracy                           0.69      1092\n",
            "   macro avg       0.70      0.69      0.68      1092\n",
            "weighted avg       0.70      0.69      0.69      1092\n",
            "\n",
            "AdaBoostClassifier(algorithm='SAMME.R', base_estimator=None, learning_rate=0.1,\n",
            "                   n_estimators=100, random_state=0)\n"
          ],
          "name": "stdout"
        }
      ]
    },
    {
      "cell_type": "markdown",
      "metadata": {
        "id": "zt0dSVuTxisl"
      },
      "source": [
        "#### Resultados para Bagging "
      ]
    },
    {
      "cell_type": "code",
      "metadata": {
        "id": "1ygQdMLJxmL2",
        "colab": {
          "base_uri": "https://localhost:8080/"
        },
        "outputId": "35709662-a8bb-41d9-cabb-d2400f8a7900"
      },
      "source": [
        "from sklearn.ensemble import BaggingClassifier\n",
        "\n",
        "clf_bagging = BaggingClassifier(KNeighborsClassifier(n_neighbors=4), max_samples = 0.5, max_features = 0.5)\n",
        "clf_bagging.fit(X_train, y_train)\n",
        "\n",
        "y_pred_bagging = clf_bagging.predict(X_test)\n",
        "print(\"O valor de f1-score para Naive Bayes é:\\n \",classification_report(y_test,y_pred_bagging))"
      ],
      "execution_count": null,
      "outputs": [
        {
          "output_type": "stream",
          "text": [
            "O valor de f1-score para Naive Bayes é:\n",
            "                precision    recall  f1-score   support\n",
            "\n",
            "           0       0.63      0.77      0.70       558\n",
            "           1       0.69      0.54      0.60       534\n",
            "\n",
            "    accuracy                           0.66      1092\n",
            "   macro avg       0.66      0.65      0.65      1092\n",
            "weighted avg       0.66      0.66      0.65      1092\n",
            "\n"
          ],
          "name": "stdout"
        }
      ]
    },
    {
      "cell_type": "markdown",
      "metadata": {
        "id": "djIpVFBrtbnv"
      },
      "source": [
        "#### Resultado para SVM "
      ]
    },
    {
      "cell_type": "code",
      "metadata": {
        "id": "xv_tHQd6the1",
        "colab": {
          "base_uri": "https://localhost:8080/"
        },
        "outputId": "9a751f3a-c2a3-46ba-c236-ebc7b5a562a8"
      },
      "source": [
        "from sklearn.svm import SVC\n",
        "\n",
        "clf_svm = SVC(kernel='rbf',gamma='auto',C=0.1)\n",
        "clf_svm.fit(X_train,y_train)\n",
        "y_pred_svm = clf_svm.predict(X_test)\n",
        "print(\"O valor de f1-score para Naive Bayes é:\\n \",classification_report(y_test,y_pred_svm))\n"
      ],
      "execution_count": null,
      "outputs": [
        {
          "output_type": "stream",
          "text": [
            "O valor de f1-score para Naive Bayes é:\n",
            "                precision    recall  f1-score   support\n",
            "\n",
            "           0       0.68      0.79      0.73       558\n",
            "           1       0.73      0.61      0.67       534\n",
            "\n",
            "    accuracy                           0.70      1092\n",
            "   macro avg       0.71      0.70      0.70      1092\n",
            "weighted avg       0.71      0.70      0.70      1092\n",
            "\n"
          ],
          "name": "stdout"
        }
      ]
    },
    {
      "cell_type": "code",
      "metadata": {
        "id": "ahm_58hHYJA7",
        "colab": {
          "base_uri": "https://localhost:8080/"
        },
        "outputId": "ccf92c3b-d55e-405e-9481-97ebdfcba170"
      },
      "source": [
        "##from sklearn.model_selection import GridSearchCV\n",
        "\n",
        "##param_grid = {'C' : [0.1,1],\n",
        "  ##            'kernel' : ['rbf'],\n",
        "    ##          'gamma' : ['auto',0.01,0.1,1],\n",
        "      ##        'decision_function_shape' : ['ovo','ovr']\n",
        "        ##      }\n",
        "\n",
        "##grid = GridSearchCV(clf_svm, param_grid=param_grid, return_train_score = True)\n",
        "##grid.fit(X_train,y_train)\n",
        "##rid.cv_results_\n"
      ],
      "execution_count": null,
      "outputs": [
        {
          "output_type": "execute_result",
          "data": {
            "text/plain": [
              "{'mean_fit_time': array([0.16045899, 0.1737062 , 0.15656013, 0.21261535, 0.15624185,\n",
              "        0.1726387 , 0.15524855, 0.21280856, 0.15390573, 0.15736423,\n",
              "        0.15350647, 0.22935238, 0.15362525, 0.15754266, 0.15271497,\n",
              "        0.22914667]),\n",
              " 'mean_score_time': array([0.02958326, 0.03214674, 0.02828293, 0.03466892, 0.02857366,\n",
              "        0.03248672, 0.02861609, 0.03490477, 0.02549825, 0.0285202 ,\n",
              "        0.02545447, 0.03404002, 0.02556782, 0.02855558, 0.02625413,\n",
              "        0.03412323]),\n",
              " 'mean_test_score': array([0.68381756, 0.61664163, 0.68421126, 0.50510651, 0.68381756,\n",
              "        0.61664163, 0.68421126, 0.50510651, 0.68892792, 0.65946839,\n",
              "        0.68932008, 0.62843946, 0.68892792, 0.65946839, 0.68932008,\n",
              "        0.62843946]),\n",
              " 'mean_train_score': array([0.70178737, 0.6200893 , 0.69952885, 0.50579336, 0.70178737,\n",
              "        0.6200893 , 0.69952885, 0.50579336, 0.73723493, 0.66781227,\n",
              "        0.73252129, 0.97289867, 0.73723493, 0.66781227, 0.73252129,\n",
              "        0.97289867]),\n",
              " 'param_C': masked_array(data=[0.1, 0.1, 0.1, 0.1, 0.1, 0.1, 0.1, 0.1, 1, 1, 1, 1, 1,\n",
              "                    1, 1, 1],\n",
              "              mask=[False, False, False, False, False, False, False, False,\n",
              "                    False, False, False, False, False, False, False, False],\n",
              "        fill_value='?',\n",
              "             dtype=object),\n",
              " 'param_decision_function_shape': masked_array(data=['ovo', 'ovo', 'ovo', 'ovo', 'ovr', 'ovr', 'ovr', 'ovr',\n",
              "                    'ovo', 'ovo', 'ovo', 'ovo', 'ovr', 'ovr', 'ovr', 'ovr'],\n",
              "              mask=[False, False, False, False, False, False, False, False,\n",
              "                    False, False, False, False, False, False, False, False],\n",
              "        fill_value='?',\n",
              "             dtype=object),\n",
              " 'param_gamma': masked_array(data=['auto', 0.01, 0.1, 1, 'auto', 0.01, 0.1, 1, 'auto',\n",
              "                    0.01, 0.1, 1, 'auto', 0.01, 0.1, 1],\n",
              "              mask=[False, False, False, False, False, False, False, False,\n",
              "                    False, False, False, False, False, False, False, False],\n",
              "        fill_value='?',\n",
              "             dtype=object),\n",
              " 'param_kernel': masked_array(data=['rbf', 'rbf', 'rbf', 'rbf', 'rbf', 'rbf', 'rbf', 'rbf',\n",
              "                    'rbf', 'rbf', 'rbf', 'rbf', 'rbf', 'rbf', 'rbf', 'rbf'],\n",
              "              mask=[False, False, False, False, False, False, False, False,\n",
              "                    False, False, False, False, False, False, False, False],\n",
              "        fill_value='?',\n",
              "             dtype=object),\n",
              " 'params': [{'C': 0.1,\n",
              "   'decision_function_shape': 'ovo',\n",
              "   'gamma': 'auto',\n",
              "   'kernel': 'rbf'},\n",
              "  {'C': 0.1, 'decision_function_shape': 'ovo', 'gamma': 0.01, 'kernel': 'rbf'},\n",
              "  {'C': 0.1, 'decision_function_shape': 'ovo', 'gamma': 0.1, 'kernel': 'rbf'},\n",
              "  {'C': 0.1, 'decision_function_shape': 'ovo', 'gamma': 1, 'kernel': 'rbf'},\n",
              "  {'C': 0.1,\n",
              "   'decision_function_shape': 'ovr',\n",
              "   'gamma': 'auto',\n",
              "   'kernel': 'rbf'},\n",
              "  {'C': 0.1, 'decision_function_shape': 'ovr', 'gamma': 0.01, 'kernel': 'rbf'},\n",
              "  {'C': 0.1, 'decision_function_shape': 'ovr', 'gamma': 0.1, 'kernel': 'rbf'},\n",
              "  {'C': 0.1, 'decision_function_shape': 'ovr', 'gamma': 1, 'kernel': 'rbf'},\n",
              "  {'C': 1, 'decision_function_shape': 'ovo', 'gamma': 'auto', 'kernel': 'rbf'},\n",
              "  {'C': 1, 'decision_function_shape': 'ovo', 'gamma': 0.01, 'kernel': 'rbf'},\n",
              "  {'C': 1, 'decision_function_shape': 'ovo', 'gamma': 0.1, 'kernel': 'rbf'},\n",
              "  {'C': 1, 'decision_function_shape': 'ovo', 'gamma': 1, 'kernel': 'rbf'},\n",
              "  {'C': 1, 'decision_function_shape': 'ovr', 'gamma': 'auto', 'kernel': 'rbf'},\n",
              "  {'C': 1, 'decision_function_shape': 'ovr', 'gamma': 0.01, 'kernel': 'rbf'},\n",
              "  {'C': 1, 'decision_function_shape': 'ovr', 'gamma': 0.1, 'kernel': 'rbf'},\n",
              "  {'C': 1, 'decision_function_shape': 'ovr', 'gamma': 1, 'kernel': 'rbf'}],\n",
              " 'rank_test_score': array([ 7, 13,  5, 15,  7, 13,  5, 15,  3,  9,  1, 11,  3,  9,  1, 11],\n",
              "       dtype=int32),\n",
              " 'split0_test_score': array([0.68431373, 0.64705882, 0.68235294, 0.50392157, 0.68431373,\n",
              "        0.64705882, 0.68235294, 0.50392157, 0.67843137, 0.65294118,\n",
              "        0.68039216, 0.62156863, 0.67843137, 0.65294118, 0.68039216,\n",
              "        0.62156863]),\n",
              " 'split0_train_score': array([0.7043222 , 0.60952849, 0.70137525, 0.50540275, 0.7043222 ,\n",
              "        0.60952849, 0.70137525, 0.50540275, 0.73772102, 0.66797642,\n",
              "        0.72937132, 0.97298625, 0.73772102, 0.66797642, 0.72937132,\n",
              "        0.97298625]),\n",
              " 'split1_test_score': array([0.66601179, 0.61493124, 0.66797642, 0.50687623, 0.66601179,\n",
              "        0.61493124, 0.66797642, 0.50687623, 0.67387033, 0.64636542,\n",
              "        0.67387033, 0.60707269, 0.67387033, 0.64636542, 0.67387033,\n",
              "        0.60707269]),\n",
              " 'split1_train_score': array([0.70594011, 0.61806578, 0.70348552, 0.50515464, 0.70594011,\n",
              "        0.61806578, 0.70348552, 0.50515464, 0.74275896, 0.67353952,\n",
              "        0.73932253, 0.97152676, 0.74275896, 0.67353952, 0.73932253,\n",
              "        0.97152676]),\n",
              " 'split2_test_score': array([0.69744597, 0.59724951, 0.69744597, 0.50491159, 0.69744597,\n",
              "        0.59724951, 0.69744597, 0.50491159, 0.68762279, 0.66994106,\n",
              "        0.69548134, 0.62278978, 0.68762279, 0.66994106, 0.69548134,\n",
              "        0.62278978]),\n",
              " 'split2_train_score': array([0.70250368, 0.62690231, 0.70004909, 0.50564556, 0.70250368,\n",
              "        0.62690231, 0.70004909, 0.50564556, 0.73588611, 0.66028473,\n",
              "        0.73048601, 0.97152676, 0.73588611, 0.66028473, 0.73048601,\n",
              "        0.97152676]),\n",
              " 'split3_test_score': array([0.69941061, 0.6345776 , 0.69941061, 0.50491159, 0.69941061,\n",
              "        0.6345776 , 0.69941061, 0.50491159, 0.7151277 , 0.66994106,\n",
              "        0.7151277 , 0.63261297, 0.7151277 , 0.66994106, 0.7151277 ,\n",
              "        0.63261297]),\n",
              " 'split3_train_score': array([0.69857634, 0.6185567 , 0.6975945 , 0.50613648, 0.69857634,\n",
              "        0.6185567 , 0.6975945 , 0.50613648, 0.73588611, 0.67353952,\n",
              "        0.7329406 , 0.97594502, 0.73588611, 0.67353952, 0.7329406 ,\n",
              "        0.97594502]),\n",
              " 'split4_test_score': array([0.6719057 , 0.58939096, 0.67387033, 0.50491159, 0.6719057 ,\n",
              "        0.58939096, 0.67387033, 0.50491159, 0.68958743, 0.65815324,\n",
              "        0.68172888, 0.65815324, 0.68958743, 0.65815324, 0.68172888,\n",
              "        0.65815324]),\n",
              " 'split4_train_score': array([0.6975945 , 0.62739323, 0.69513991, 0.50662739, 0.6975945 ,\n",
              "        0.62739323, 0.69513991, 0.50662739, 0.73392243, 0.66372116,\n",
              "        0.73048601, 0.97250859, 0.73392243, 0.66372116, 0.73048601,\n",
              "        0.97250859]),\n",
              " 'std_fit_time': array([0.00520514, 0.00226692, 0.0019024 , 0.00181187, 0.00268984,\n",
              "        0.00192198, 0.00335205, 0.00332782, 0.00259527, 0.00153289,\n",
              "        0.00189305, 0.0025707 , 0.00203359, 0.00338743, 0.00042039,\n",
              "        0.00168369]),\n",
              " 'std_score_time': array([2.36256204e-03, 1.59328228e-04, 1.04974745e-04, 8.80688670e-05,\n",
              "        5.69120013e-04, 3.54269741e-04, 5.29988137e-04, 1.71713516e-04,\n",
              "        3.12574508e-04, 2.02653414e-04, 1.07540407e-04, 1.77248742e-04,\n",
              "        1.38760711e-04, 1.52280423e-04, 1.34780320e-03, 2.47851011e-04]),\n",
              " 'std_test_score': array([0.01332712, 0.02176457, 0.01249108, 0.00096436, 0.01332712,\n",
              "        0.02176457, 0.01249108, 0.00096436, 0.01432114, 0.0093314 ,\n",
              "        0.0146971 , 0.01694693, 0.01432114, 0.0093314 , 0.0146971 ,\n",
              "        0.01694693]),\n",
              " 'std_train_score': array([0.00322721, 0.00659907, 0.00290997, 0.00052834, 0.00322721,\n",
              "        0.00659907, 0.00290997, 0.00052834, 0.00301206, 0.00527315,\n",
              "        0.00359555, 0.00162508, 0.00301206, 0.00527315, 0.00359555,\n",
              "        0.00162508])}"
            ]
          },
          "metadata": {
            "tags": []
          },
          "execution_count": 71
        }
      ]
    },
    {
      "cell_type": "code",
      "metadata": {
        "id": "s-rGbHY_ZDd1",
        "colab": {
          "base_uri": "https://localhost:8080/"
        },
        "outputId": "dd5f9bd1-e115-4bea-b574-83f537bbff63"
      },
      "source": [
        "best_clf_svm = grid.best_estimator_\n",
        "y_best_pred_svm = best_clf_svm.predict(X_test)\n",
        "print(\"O valor de f1-score para Naive Bayes é:\\n \",classification_report(y_test,y_best_pred_svm))\n",
        "print(grid.best_estimator_)"
      ],
      "execution_count": null,
      "outputs": [
        {
          "output_type": "stream",
          "text": [
            "O valor de f1-score para Naive Bayes é:\n",
            "                precision    recall  f1-score   support\n",
            "\n",
            "           0       0.67      0.80      0.73       558\n",
            "           1       0.74      0.59      0.66       534\n",
            "\n",
            "    accuracy                           0.70      1092\n",
            "   macro avg       0.71      0.70      0.69      1092\n",
            "weighted avg       0.70      0.70      0.69      1092\n",
            "\n",
            "SVC(C=1, break_ties=False, cache_size=200, class_weight=None, coef0=0.0,\n",
            "    decision_function_shape='ovo', degree=3, gamma=0.1, kernel='rbf',\n",
            "    max_iter=-1, probability=False, random_state=None, shrinking=True,\n",
            "    tol=0.001, verbose=False)\n"
          ],
          "name": "stdout"
        }
      ]
    },
    {
      "cell_type": "code",
      "metadata": {
        "id": "0blHzLaMY-ak",
        "colab": {
          "base_uri": "https://localhost:8080/",
          "height": 574
        },
        "outputId": "53f68bcd-7ddd-4fdb-8c74-b3db81b1ea08"
      },
      "source": [
        "plt.rcParams[\"figure.figsize\"]=(10, 10)\n",
        "plot_confusion_matrix(best_clf_svm, X_test, y_test)\n",
        "plt.show()"
      ],
      "execution_count": null,
      "outputs": [
        {
          "output_type": "display_data",
          "data": {
            "image/png": "[encoded data removed]",
            "text/plain": [
              "<Figure size 720x720 with 2 Axes>"
            ]
          },
          "metadata": {
            "tags": [],
            "needs_background": "light"
          }
        }
      ]
    }
  ]
}